{
 "cells": [
  {
   "cell_type": "code",
   "execution_count": 12,
   "metadata": {
    "collapsed": false
   },
   "outputs": [],
   "source": [
    "import pyspark\n",
    "import math\n",
    "import matplotlib.pyplot as plt\n",
    "import numpy as np\n",
    "from pyspark import SparkContext\n",
    "from pyspark.sql import SparkSession\n",
    "from nltk.corpus import stopwords\n",
    "import nltk\n",
    "import cPickle as pickle\n",
    "from scipy.sparse import csr_matrix\n",
    "import re\n",
    "import scipy\n",
    "import pandas as pd\n",
    "from sklearn.metrics.pairwise import cosine_similarity\n",
    "%matplotlib inline\n",
    "\n",
    "mypath = \"../../project/cmsc25025/wikipedia/wiki-text.txt\"  #Working file"
   ]
  },
  {
   "cell_type": "code",
   "execution_count": 13,
   "metadata": {
    "collapsed": false,
    "scrolled": true
   },
   "outputs": [],
   "source": [
    "spark = SparkSession.builder.master('local[4]').appName('assn4_prob2').getOrCreate()"
   ]
  },
  {
   "cell_type": "code",
   "execution_count": 14,
   "metadata": {
    "collapsed": false,
    "scrolled": true
   },
   "outputs": [],
   "source": [
    "# Create new config, I'm using a 4 cpu, 4 tasks per node, 4 node machine\n",
    "spark.conf.set(\"spark.executor.memory\", '12g')\n",
    "spark.conf.set(\"spark.driver.maxResultSize\", \"12g\")\n",
    "spark.conf.set(\"spark.driver.memory\", \"12g\")\n",
    "spark.conf.set('spark.executor.cores', '2')\n",
    "sc = spark.sparkContext"
   ]
  },
  {
   "cell_type": "code",
   "execution_count": 4,
   "metadata": {
    "collapsed": false
   },
   "outputs": [],
   "source": [
    "#sc.stop()"
   ]
  },
  {
   "cell_type": "markdown",
   "metadata": {},
   "source": [
    "## Reduce vocabulary"
   ]
  },
  {
   "cell_type": "code",
   "execution_count": 5,
   "metadata": {
    "collapsed": false
   },
   "outputs": [],
   "source": [
    "# Download nltk corpora of stopwords\n",
    "#nltk.download()"
   ]
  },
  {
   "cell_type": "code",
   "execution_count": 19,
   "metadata": {
    "collapsed": false,
    "scrolled": true
   },
   "outputs": [],
   "source": [
    "stop = stopwords.words(\"english\")"
   ]
  },
  {
   "cell_type": "code",
   "execution_count": 20,
   "metadata": {
    "collapsed": false
   },
   "outputs": [],
   "source": [
    "wiki_file = open(mypath,'r').readlines()[0]\n",
    "num_chunks = 40 #make it multiple of number of your cores\n",
    "chunks, chunk_size = len(wiki_file), len(wiki_file) / num_chunks\n",
    "wiki_chunks = [wiki_file[i:i+chunk_size] for i in range(0, chunks, chunk_size)]\n",
    "#wiki_chunks[0]"
   ]
  },
  {
   "cell_type": "code",
   "execution_count": 21,
   "metadata": {
    "collapsed": true
   },
   "outputs": [],
   "source": [
    "partitions = 8\n",
    "wiki_data = sc.parallelize(wiki_chunks, partitions)"
   ]
  },
  {
   "cell_type": "code",
   "execution_count": 22,
   "metadata": {
    "collapsed": false
   },
   "outputs": [],
   "source": [
    "min_ocurr = 500\n",
    "vocab = wiki_data.flatMap(lambda line: line.split(\" \")) \\\n",
    "                 .map(lambda word: (word, 1)) \\\n",
    "                 .reduceByKey(lambda a, b: a + b) \\\n",
    "                 .filter(lambda pair: pair[1] > min_ocurr and pair[0] not in stop) \\\n",
    "                 .collectAsMap()"
   ]
  },
  {
   "cell_type": "code",
   "execution_count": 23,
   "metadata": {
    "collapsed": false
   },
   "outputs": [
    {
     "data": {
      "text/plain": [
       "13201"
      ]
     },
     "execution_count": 23,
     "metadata": {},
     "output_type": "execute_result"
    }
   ],
   "source": [
    "len_voc = len(vocab)\n",
    "len_voc"
   ]
  },
  {
   "cell_type": "code",
   "execution_count": 24,
   "metadata": {
    "collapsed": false
   },
   "outputs": [],
   "source": [
    "voc = vocab.keys()\n",
    "voc.sort() # this is our vocabulary, let's try to make some vectors now"
   ]
  },
  {
   "cell_type": "code",
   "execution_count": 25,
   "metadata": {
    "collapsed": false
   },
   "outputs": [],
   "source": [
    "voc = {w : i for i, w in enumerate(voc)}"
   ]
  },
  {
   "cell_type": "code",
   "execution_count": 26,
   "metadata": {
    "collapsed": false
   },
   "outputs": [
    {
     "data": {
      "text/plain": [
       "[13196, 13197, 13198, 13199, 13200]"
      ]
     },
     "execution_count": 26,
     "metadata": {},
     "output_type": "execute_result"
    }
   ],
   "source": [
    "k = voc.values()\n",
    "k.sort()\n",
    "k[-5:]"
   ]
  },
  {
   "cell_type": "code",
   "execution_count": 27,
   "metadata": {
    "collapsed": true
   },
   "outputs": [],
   "source": [
    "pickle.dump(voc, open( \"word_vocab.p\", \"wb\" ) )"
   ]
  },
  {
   "cell_type": "markdown",
   "metadata": {},
   "source": [
    "## Getting embeddings"
   ]
  },
  {
   "cell_type": "code",
   "execution_count": null,
   "metadata": {
    "collapsed": false
   },
   "outputs": [],
   "source": [
    "def make_matrix(word_list, size, window):\n",
    "    matrix = np.zeros((size, size))\n",
    "    for i in range(len(word_list) - window):\n",
    "        for j in range(1, window + 1):\n",
    "            matrix[voc[word_list[i]], voc[word_list[i + j]]] += 1\n",
    "    return csr_matrix(matrix)"
   ]
  },
  {
   "cell_type": "code",
   "execution_count": null,
   "metadata": {
    "collapsed": true
   },
   "outputs": [],
   "source": [
    "# every element is a list of lists of words [[...],[...],[...]]\n",
    "wiki_data = wiki_data.map(lambda chunk : [x for x in chunk.split() if (x not in stop and x in vocab)])"
   ]
  },
  {
   "cell_type": "code",
   "execution_count": null,
   "metadata": {
    "collapsed": false,
    "scrolled": true
   },
   "outputs": [],
   "source": [
    "window = 5\n",
    "wc = wiki_data.map(lambda wl: make_matrix(wl, len_voc, window)).reduce(lambda x, y: x + y)"
   ]
  },
  {
   "cell_type": "code",
   "execution_count": null,
   "metadata": {
    "collapsed": false
   },
   "outputs": [],
   "source": [
    "#pickle.dump(wc, open( \"wc.p\", \"wb\" ) )"
   ]
  },
  {
   "cell_type": "code",
   "execution_count": null,
   "metadata": {
    "collapsed": true
   },
   "outputs": [],
   "source": [
    "wc = pickle.load( open( \"wc.p\", \"rb\" ) )"
   ]
  },
  {
   "cell_type": "code",
   "execution_count": 45,
   "metadata": {
    "collapsed": false
   },
   "outputs": [
    {
     "ename": "NameError",
     "evalue": "name 'len_voc' is not defined",
     "output_type": "error",
     "traceback": [
      "\u001b[0;31m---------------------------------------------------------------------------\u001b[0m",
      "\u001b[0;31mNameError\u001b[0m                                 Traceback (most recent call last)",
      "\u001b[0;32m<ipython-input-45-e89d9ed7156f>\u001b[0m in \u001b[0;36m<module>\u001b[0;34m()\u001b[0m\n\u001b[1;32m      1\u001b[0m \u001b[0mcounts\u001b[0m \u001b[0;34m=\u001b[0m \u001b[0mwc\u001b[0m\u001b[0;34m.\u001b[0m\u001b[0msum\u001b[0m\u001b[0;34m(\u001b[0m\u001b[0maxis\u001b[0m\u001b[0;34m=\u001b[0m\u001b[0;36m1\u001b[0m\u001b[0;34m)\u001b[0m\u001b[0;34m\u001b[0m\u001b[0m\n\u001b[1;32m      2\u001b[0m \u001b[0mD\u001b[0m \u001b[0;34m=\u001b[0m \u001b[0mcounts\u001b[0m\u001b[0;34m.\u001b[0m\u001b[0msum\u001b[0m\u001b[0;34m(\u001b[0m\u001b[0;34m)\u001b[0m\u001b[0;34m\u001b[0m\u001b[0m\n\u001b[0;32m----> 3\u001b[0;31m \u001b[0mones\u001b[0m \u001b[0;34m=\u001b[0m \u001b[0mnp\u001b[0m\u001b[0;34m.\u001b[0m\u001b[0mones\u001b[0m\u001b[0;34m(\u001b[0m\u001b[0;34m(\u001b[0m\u001b[0mlen_voc\u001b[0m\u001b[0;34m,\u001b[0m \u001b[0mlen_voc\u001b[0m\u001b[0;34m)\u001b[0m\u001b[0;34m)\u001b[0m\u001b[0;34m\u001b[0m\u001b[0m\n\u001b[0m\u001b[1;32m      4\u001b[0m \u001b[0mdiv_w\u001b[0m \u001b[0;34m=\u001b[0m \u001b[0mones\u001b[0m\u001b[0;34m/\u001b[0m\u001b[0mcounts\u001b[0m\u001b[0;34m\u001b[0m\u001b[0m\n\u001b[1;32m      5\u001b[0m \u001b[0mdiv_c\u001b[0m \u001b[0;34m=\u001b[0m \u001b[0mones\u001b[0m\u001b[0;34m/\u001b[0m\u001b[0mcounts\u001b[0m\u001b[0;34m.\u001b[0m\u001b[0mT\u001b[0m\u001b[0;34m\u001b[0m\u001b[0m\n",
      "\u001b[0;31mNameError\u001b[0m: name 'len_voc' is not defined"
     ]
    }
   ],
   "source": [
    "counts = wc.sum(axis=1)\n",
    "D = counts.sum()\n",
    "ones = np.ones((len_voc, len_voc))\n",
    "div_w = ones/counts\n",
    "div_c = ones/counts.T"
   ]
  },
  {
   "cell_type": "code",
   "execution_count": null,
   "metadata": {
    "collapsed": false
   },
   "outputs": [],
   "source": [
    "num = np.log((wc + ones)*D)\n",
    "den = -np.log(ones*counts*counts.T)\n",
    "pmi = num + den"
   ]
  },
  {
   "cell_type": "code",
   "execution_count": null,
   "metadata": {
    "collapsed": false
   },
   "outputs": [],
   "source": [
    "U, s, V = scipy.sparse.linalg.svds(pmi, k=30)"
   ]
  },
  {
   "cell_type": "code",
   "execution_count": 27,
   "metadata": {
    "collapsed": false
   },
   "outputs": [],
   "source": [
    "# run only when needeed\n",
    "pickle.dump(U, open(\"mtx_U.p\", \"wb\"))\n",
    "pickle.dump(s, open(\"mtx_s.p\", \"wb\"))\n",
    "pickle.dump(V, open(\"mtx_V.p\", \"wb\"))"
   ]
  },
  {
   "cell_type": "code",
   "execution_count": 46,
   "metadata": {
    "collapsed": true
   },
   "outputs": [],
   "source": [
    "# run only when needeed\n",
    "U = pickle.load(open(\"mtx_U.p\", \"rb\"))\n",
    "s = pickle.load(open(\"mtx_s.p\", \"rb\"))\n",
    "V = pickle.load(open(\"mtx_V.p\", \"rb\"))"
   ]
  },
  {
   "cell_type": "code",
   "execution_count": 47,
   "metadata": {
    "collapsed": true
   },
   "outputs": [],
   "source": [
    "s_mtx = np.diag(s)"
   ]
  },
  {
   "cell_type": "code",
   "execution_count": 50,
   "metadata": {
    "collapsed": false
   },
   "outputs": [],
   "source": [
    "sroot = scipy.linalg.sqrtm(s_mtx)"
   ]
  },
  {
   "cell_type": "code",
   "execution_count": 51,
   "metadata": {
    "collapsed": true
   },
   "outputs": [],
   "source": [
    "W = U.dot(sroot) #sroot\n",
    "C = sroot.dot(V)"
   ]
  },
  {
   "cell_type": "code",
   "execution_count": 52,
   "metadata": {
    "collapsed": true
   },
   "outputs": [],
   "source": [
    "pickle.dump(W, open(\"word_embeddings.p\", \"wb\"))"
   ]
  },
  {
   "cell_type": "markdown",
   "metadata": {
    "collapsed": true
   },
   "source": [
    "## Embeddings & GloVe"
   ]
  },
  {
   "cell_type": "markdown",
   "metadata": {},
   "source": [
    "**With our embeddings**"
   ]
  },
  {
   "cell_type": "code",
   "execution_count": 4,
   "metadata": {
    "collapsed": false
   },
   "outputs": [],
   "source": [
    "wd_matrix = pickle.load(open(\"word_embeddings.p\", \"rb\"))\n",
    "wd_vocab = pickle.load(open(\"word_vocab.p\", \"rb\"))"
   ]
  },
  {
   "cell_type": "code",
   "execution_count": 5,
   "metadata": {
    "collapsed": false
   },
   "outputs": [],
   "source": [
    "wd_mapng = {word : np.ndarray.tolist(wd_matrix[ix]) for word, ix in wd_vocab.items()}"
   ]
  },
  {
   "cell_type": "code",
   "execution_count": 6,
   "metadata": {
    "collapsed": false
   },
   "outputs": [
    {
     "name": "stdout",
     "output_type": "stream",
     "text": [
      "+-----------+--------------------+\n",
      "|       word|              vector|\n",
      "+-----------+--------------------+\n",
      "|   writings|[-0.0389895769672...|\n",
      "|       foul|[-0.0052673478336...|\n",
      "|       four|[-0.3867115335603...|\n",
      "|     prefix|[0.21274777480330...|\n",
      "|      jihad|[-0.1197237236819...|\n",
      "|    spiders|[-0.1270842788687...|\n",
      "|     verses|[0.03608762541943...|\n",
      "|  francesco|[-0.1446082153561...|\n",
      "|      woody|[-0.0729551850442...|\n",
      "|     cyprus|[-0.0793772227484...|\n",
      "| aggression|[-0.1456184763864...|\n",
      "|   marching|[-0.0650794348685...|\n",
      "|    looking|[0.03774504682404...|\n",
      "|     pardon|[-0.0247590092108...|\n",
      "|   granting|[0.03164221241396...|\n",
      "|   eligible|[-0.0404393563197...|\n",
      "|electricity|[0.28539958968935...|\n",
      "|    hermann|[-0.0026176771905...|\n",
      "|       lord|[0.15017233205500...|\n",
      "|    meadows|[-0.1154865184929...|\n",
      "+-----------+--------------------+\n",
      "only showing top 20 rows\n",
      "\n"
     ]
    }
   ],
   "source": [
    "pmi_embed = spark.sparkContext.parallelize([[k] + [v] for k, v in wd_mapng.items()]).toDF(['word', 'vector'])\n",
    "pmi_embed.show()"
   ]
  },
  {
   "cell_type": "markdown",
   "metadata": {},
   "source": [
    "** GloVe local embeddings **"
   ]
  },
  {
   "cell_type": "code",
   "execution_count": 7,
   "metadata": {
    "collapsed": true
   },
   "outputs": [],
   "source": [
    "vocab_file   = 'GloVe/wiki-vocab.txt'\n",
    "vectors_file = 'GloVe/wiki-vectors.txt'\n",
    "with open(vocab_file, 'r') as f:\n",
    "    words = [x.rstrip().split(' ')[0] for x in f.readlines()]\n",
    "with open(vectors_file, 'r') as f:\n",
    "    vectors = {}\n",
    "    for line in f:\n",
    "        vals = line.rstrip().split(' ')\n",
    "        vectors[vals[0]] = [float(x) for x in vals[1:]]\n",
    "vocab  = {w: idx for idx, w in enumerate(words)}\n",
    "ivocab = {idx: w for idx, w in enumerate(words)}"
   ]
  },
  {
   "cell_type": "code",
   "execution_count": 8,
   "metadata": {
    "collapsed": false
   },
   "outputs": [
    {
     "name": "stdout",
     "output_type": "stream",
     "text": [
      "+------------+--------------------+\n",
      "|        word|              vector|\n",
      "+------------+--------------------+\n",
      "|        fawn|[0.513643, 0.2346...|\n",
      "|homomorphism|[0.176001, -0.308...|\n",
      "|     nordisk|[-0.656126, 0.898...|\n",
      "|     nunnery|[-0.034657, 0.333...|\n",
      "|    chthonic|[0.181691, -0.530...|\n",
      "|      sowell|[-1.09794, -0.682...|\n",
      "|       sonja|[0.305212, 0.4386...|\n",
      "|       bioko|[0.238293, -0.311...|\n",
      "|      tilton|[0.097168, -0.003...|\n",
      "|       askew|[-0.57191, 0.4621...|\n",
      "|       woods|[0.125927, 0.2620...|\n",
      "|     spiders|[-1.150668, -0.25...|\n",
      "|    nordland|[0.142441, 0.4143...|\n",
      "|     hanging|[0.304988, -0.219...|\n",
      "|       woody|[-0.672174, 0.516...|\n",
      "|     durrani|[0.183024, 0.2229...|\n",
      "|   comically|[0.29354, -0.4927...|\n",
      "|   localized|[0.219004, -0.059...|\n",
      "|    schlegel|[0.017935, 0.7316...|\n",
      "|      sevens|[-0.224682, 0.286...|\n",
      "+------------+--------------------+\n",
      "only showing top 20 rows\n",
      "\n"
     ]
    }
   ],
   "source": [
    "lglove_embed = spark.sparkContext.parallelize([[k] + [v] for k, v in vectors.items()]).toDF(['word', 'vector'])\n",
    "lglove_embed.show()"
   ]
  },
  {
   "cell_type": "markdown",
   "metadata": {},
   "source": [
    "** GloVe pretrained embeddings **"
   ]
  },
  {
   "cell_type": "code",
   "execution_count": 15,
   "metadata": {
    "collapsed": true
   },
   "outputs": [],
   "source": [
    "pre_vectors_file = 'glove.6B.50d.txt'\n",
    "with open(pre_vectors_file, 'r') as f:\n",
    "    pre_vectors = {}\n",
    "    for line in f:\n",
    "        vals = line.rstrip().split(' ')\n",
    "        pre_vectors[vals[0]] = [float(x) for x in vals[1:]]"
   ]
  },
  {
   "cell_type": "code",
   "execution_count": 16,
   "metadata": {
    "collapsed": false
   },
   "outputs": [
    {
     "name": "stdout",
     "output_type": "stream",
     "text": [
      "+----------+--------------------+\n",
      "|      word|              vector|\n",
      "+----------+--------------------+\n",
      "| biennials|[0.75302, 0.80138...|\n",
      "|  verplank|[-0.32867, -0.306...|\n",
      "| soestdijk|[0.951, 0.23322, ...|\n",
      "|     woode|[-0.88097, 0.0523...|\n",
      "|      mdbo|[-0.67112, 0.9650...|\n",
      "|    sowell|[-0.34872, -0.937...|\n",
      "|      mdbu|[-0.93082, 1.2577...|\n",
      "|     woods|[-0.090494, 0.393...|\n",
      "|   spiders|[1.4794, -0.60531...|\n",
      "|      mdbs|[0.40154, -0.5838...|\n",
      "|      mdbr|[-0.77377, 1.3692...|\n",
      "|     woody|[-0.068777, 1.062...|\n",
      "|  trawling|[0.42693, -1.0779...|\n",
      "|   hwasung|[-0.89039, 0.1323...|\n",
      "|   spidery|[0.34241, -0.3656...|\n",
      "|regularize|[0.1042, -0.5804,...|\n",
      "|  hennings|[0.23447, -0.7314...|\n",
      "|     canes|[-0.18691, -0.358...|\n",
      "|     canet|[-0.74563, -1.039...|\n",
      "|     caney|[-0.1258, 0.77926...|\n",
      "+----------+--------------------+\n",
      "only showing top 20 rows\n",
      "\n"
     ]
    }
   ],
   "source": [
    "pglove_embed = spark.sparkContext.parallelize([[k] + [v] for k, v in pre_vectors.items()]).toDF(['word', 'vector'])\n",
    "pglove_embed.show()"
   ]
  },
  {
   "cell_type": "markdown",
   "metadata": {},
   "source": [
    "### Top 5 words!\n",
    "Find close words for the following: physics, republican, einstein, algebra, fish."
   ]
  },
  {
   "cell_type": "code",
   "execution_count": 12,
   "metadata": {
    "collapsed": false
   },
   "outputs": [],
   "source": [
    "words = ['physics', 'republican', 'einstein', 'algebra', 'fish', 'elephant'] # added elephant for fun\n",
    "index = ['PMI', 'local GloVe', 'pre GloVe']\n",
    "rx = pd.DataFrame(index=index, columns=words)"
   ]
  },
  {
   "cell_type": "code",
   "execution_count": 118,
   "metadata": {
    "collapsed": false
   },
   "outputs": [],
   "source": [
    "import Queue\n",
    "def get_top_matches(words, word_mapping, max_words):\n",
    "    rv = {}\n",
    "    for term in words:\n",
    "        q = Queue.PriorityQueue(maxsize=max_words)\n",
    "        t = np.array(word_mapping[term]).reshape(-1, 1)\n",
    "        for word, embed in word_mapping.items():\n",
    "            if word != term:\n",
    "                res = cosine_similarity(np.array(embed).reshape(-1,1).T, t.T)[0][0]\n",
    "                if q.full():\n",
    "                    cs, wd = q.get()\n",
    "                    if res > cs:\n",
    "                        q.put((res, word))\n",
    "                    else:\n",
    "                        q.put((cs, wd))\n",
    "                if not q.full():\n",
    "                    q.put((res, word))\n",
    "        w_list = []\n",
    "        while not q.empty():\n",
    "            w_list.append(q.get())\n",
    "        rv[term] = w_list\n",
    "    return rv"
   ]
  },
  {
   "cell_type": "code",
   "execution_count": 119,
   "metadata": {
    "collapsed": false
   },
   "outputs": [
    {
     "data": {
      "text/plain": [
       "{'algebra': [(0.97523349193459719, 'calculus'),\n",
       "  (0.97524672754441177, 'topology'),\n",
       "  (0.98147946986396184, 'finite'),\n",
       "  (0.98256850463864687, 'theorem'),\n",
       "  (0.98565127009719711, 'algebraic')],\n",
       " 'einstein': [(0.97274812034156954, 'galileo'),\n",
       "  (0.97337933715638214, 'planck'),\n",
       "  (0.97512847703543504, 'maxwell'),\n",
       "  (0.98129824078593175, 'physicists'),\n",
       "  (0.98715403301603966, 'relativity')],\n",
       " 'elephant': [(0.98952828748265065, 'rat'),\n",
       "  (0.98996979220692827, 'goose'),\n",
       "  (0.99034762742789018, 'goat'),\n",
       "  (0.99075184129253524, 'owl'),\n",
       "  (0.9909860586881023, 'shark')],\n",
       " 'fish': [(0.95023669511806275, 'eggs'),\n",
       "  (0.95675337032454677, 'plants'),\n",
       "  (0.95803712240848138, 'birds'),\n",
       "  (0.95884558973288736, 'trees'),\n",
       "  (0.97508738151141849, 'fruit')],\n",
       " 'physics': [(0.92537613614115299, 'astronomy'),\n",
       "  (0.93126754748956198, 'theoretical'),\n",
       "  (0.94242776264965311, 'chemistry'),\n",
       "  (0.9459591491996121, 'quantum'),\n",
       "  (0.95015299112214213, 'mechanics')],\n",
       " 'republican': [(0.94066103627524056, 'candidate'),\n",
       "  (0.94339523301423223, 'presidential'),\n",
       "  (0.94395863904732469, 'democrats'),\n",
       "  (0.95313477390846857, 'democrat'),\n",
       "  (0.95791043053268021, 'senator')]}"
      ]
     },
     "execution_count": 119,
     "metadata": {},
     "output_type": "execute_result"
    }
   ],
   "source": [
    "max_words = 5\n",
    "rv = get_top_matches(words, wd_mapng, max_words)\n",
    "rv"
   ]
  },
  {
   "cell_type": "code",
   "execution_count": 120,
   "metadata": {
    "collapsed": false
   },
   "outputs": [
    {
     "data": {
      "text/plain": [
       "{'algebra': [(0.70990295965868999, 'integral'),\n",
       "  (0.72365645182646832, 'geometry'),\n",
       "  (0.74044156603535238, 'mathematics'),\n",
       "  (0.80288791308731866, 'algebras'),\n",
       "  (0.81373582244578979, 'algebraic')],\n",
       " 'einstein': [(0.64315231617765578, 'mechanics'),\n",
       "  (0.6651079906413897, 'quantum'),\n",
       "  (0.68038897119652508, 'physics'),\n",
       "  (0.70215692122183071, 'maxwell'),\n",
       "  (0.73474438112532325, 'relativity')],\n",
       " 'elephant': [(0.63098019654857995, 'pagoda'),\n",
       "  (0.64251120981867293, 'lizard'),\n",
       "  (0.65955058814445577, 'elephants'),\n",
       "  (0.67807722371743728, 'lion'),\n",
       "  (0.72499877146833114, 'frog')],\n",
       " 'fish': [(0.68887484619626682, 'eat'),\n",
       "  (0.69612837349152612, 'meat'),\n",
       "  (0.6982399627615633, 'shrimp'),\n",
       "  (0.70943962248849068, 'food'),\n",
       "  (0.71560482735624775, 'feed')],\n",
       " 'physics': [(0.76035907883894371, 'quantum'),\n",
       "  (0.76646101962582824, 'science'),\n",
       "  (0.76675395755563591, 'mathematics'),\n",
       "  (0.78625162194954235, 'mechanics'),\n",
       "  (0.80088865048812174, 'chemistry')],\n",
       " 'republican': [(0.71313804125612901, 'federalist'),\n",
       "  (0.74833381062824811, 'whig'),\n",
       "  (0.81898124989300913, 'representative'),\n",
       "  (0.83842098854878089, 'senator'),\n",
       "  (0.84234298326090562, 'democrat')]}"
      ]
     },
     "execution_count": 120,
     "metadata": {},
     "output_type": "execute_result"
    }
   ],
   "source": [
    "rv = get_top_matches(words, vectors, max_words)\n",
    "rv"
   ]
  },
  {
   "cell_type": "code",
   "execution_count": 121,
   "metadata": {
    "collapsed": false
   },
   "outputs": [
    {
     "data": {
      "text/plain": [
       "{'algebra': [(0.74395675284986618, 'associative'),\n",
       "  (0.74468027839121875, 'algebras'),\n",
       "  (0.75247701525018174, 'homological'),\n",
       "  (0.78372211179586659, 'algebraic'),\n",
       "  (0.80462524236180033, 'geometry')],\n",
       " 'einstein': [(0.69716687965589497, 'freud'),\n",
       "  (0.70056202293969838, 'heisenberg'),\n",
       "  (0.70184532437773806, 'physics'),\n",
       "  (0.72867321623401093, 'bohr'),\n",
       "  (0.74389528057351251, 'relativity')],\n",
       " 'elephant': [(0.76216458590932101, 'sheep'),\n",
       "  (0.7658654470563685, 'deer'),\n",
       "  (0.77199728418621982, 'crocodile'),\n",
       "  (0.77578413449959394, 'bird'),\n",
       "  (0.83063023695347049, 'elephants')],\n",
       " 'fish': [(0.76385155640452795, 'bird'),\n",
       "  (0.77556834830603716, 'birds'),\n",
       "  (0.79814421623446286, 'shrimp'),\n",
       "  (0.79954013003530477, 'meat'),\n",
       "  (0.83402273498489143, 'salmon')],\n",
       " 'physics': [(0.82418982944012353, 'biology'),\n",
       "  (0.83143548587418936, 'science'),\n",
       "  (0.84800293140417971, 'theoretical'),\n",
       "  (0.87711224033747726, 'mathematics'),\n",
       "  (0.89958569993349025, 'chemistry')],\n",
       " 'republican': [(0.90681735525191431, 'democrats'),\n",
       "  (0.90989390867196251, 'republicans'),\n",
       "  (0.91132369677822866, 'democratic'),\n",
       "  (0.91428894545784933, 'democrat'),\n",
       "  (0.96175295902218549, 'gop')]}"
      ]
     },
     "execution_count": 121,
     "metadata": {},
     "output_type": "execute_result"
    }
   ],
   "source": [
    "rv = get_top_matches(words, pre_vectors, max_words)\n",
    "rv"
   ]
  },
  {
   "cell_type": "markdown",
   "metadata": {
    "collapsed": true
   },
   "source": [
    "** Comments **\n",
    "- Algebra: the three embeddings seem to suggest similar words (e.g. algebraic, algebras), but all seem pretty well related to mathematics.\n",
    "- Einstein: interestingly, they all have names of physicists in their results (e.g. Maxwell, Planck); trained GloVe e. seem to have more names than concepts (e.g. mechanics, quantum, relativity).\n",
    "- Fish: local GloVe e. seem to suggest only food, trained GloVe seem to suggest food/animals, and our embeddings seem to have a mix of food/animals/nature\n",
    "- Physics: they all three seem to give similar results, suggesting other sciences as similar words\n",
    "- Republican: our embeddings seem to suggest generic political words, local GloVe embeddings even suggest parlament members (whig) and trained GloVe suggest a very American word: GOP\n"
   ]
  },
  {
   "cell_type": "markdown",
   "metadata": {
    "collapsed": true
   },
   "source": [
    "### Try solving the analogy:\n",
    "v = vparis − vfrance + vengland"
   ]
  },
  {
   "cell_type": "code",
   "execution_count": 11,
   "metadata": {
    "collapsed": true
   },
   "outputs": [],
   "source": [
    "from os import listdir\n",
    "from os.path import isfile, join\n",
    "import re"
   ]
  },
  {
   "cell_type": "code",
   "execution_count": 12,
   "metadata": {
    "collapsed": true
   },
   "outputs": [],
   "source": [
    "def solve_analogy(word_mapping, word_list):\n",
    "    if not all([word in word_mapping for word in word_list]):\n",
    "        return 'At least one word not in word list', 0\n",
    "    v = np.array(word_mapping[word_list[0]]) - \\\n",
    "        np.array(word_mapping[word_list[1]]) + \\\n",
    "        np.array(word_mapping[word_list[2]])\n",
    "    max_cos = 0\n",
    "    best_match = None\n",
    "    for word, embed in word_mapping.items():\n",
    "        if word not in word_list:\n",
    "            cosine = cosine_similarity(np.array(embed).reshape(-1,1).T, v.reshape(-1,1).T)[0][0]\n",
    "            if cosine > max_cos:\n",
    "                max_cos = cosine\n",
    "                best_match = word\n",
    "    return best_match, max_cos"
   ]
  },
  {
   "cell_type": "code",
   "execution_count": 13,
   "metadata": {
    "collapsed": false
   },
   "outputs": [
    {
     "data": {
      "text/plain": [
       "(('london', 0.91976131785902027),\n",
       " ('london', 0.79805348500129736),\n",
       " ('melbourne', 0.83529067959325043))"
      ]
     },
     "execution_count": 13,
     "metadata": {},
     "output_type": "execute_result"
    }
   ],
   "source": [
    "analogy = ['paris', 'france', 'england']\n",
    "solve_analogy(wd_mapng, analogy), solve_analogy(vectors, analogy), solve_analogy(pre_vectors, analogy)"
   ]
  },
  {
   "cell_type": "code",
   "execution_count": 14,
   "metadata": {
    "collapsed": false
   },
   "outputs": [
    {
     "data": {
      "text/plain": [
       "(('weighed', 0.85159092185755814),\n",
       " ('gigabyte', 0.64825133449662864),\n",
       " ('5.25-inch', 0.74353427954940854))"
      ]
     },
     "execution_count": 14,
     "metadata": {},
     "output_type": "execute_result"
    }
   ],
   "source": [
    "analogy = ['usb', 'computer', 'floppy']\n",
    "solve_analogy(wd_mapng, analogy), solve_analogy(vectors, analogy), solve_analogy(pre_vectors, analogy)"
   ]
  },
  {
   "cell_type": "code",
   "execution_count": 15,
   "metadata": {
    "collapsed": false
   },
   "outputs": [],
   "source": [
    "mypath = '/project/cmsc25025/assn4_analogy'\n",
    "onlyfiles = [f for f in listdir(mypath) if isfile(join(mypath, f))]"
   ]
  },
  {
   "cell_type": "code",
   "execution_count": null,
   "metadata": {
    "collapsed": true
   },
   "outputs": [],
   "source": [
    "analogies = []\n",
    "for f in onlyfiles: \n",
    "    with open(mypath + \"/\" + f, 'r') as f:\n",
    "        for line in f:\n",
    "            analogies.append(line.strip())"
   ]
  },
  {
   "cell_type": "code",
   "execution_count": null,
   "metadata": {
    "collapsed": false
   },
   "outputs": [
    {
     "name": "stdout",
     "output_type": "stream",
     "text": [
      "('segregate', 'unify', 'damage')\n",
      "Analogy: segregate:unify=damage:?.\n",
      "[('At least one word not in word list', 0), ('At least one word not in word list', 0), ('inhalation', 0.74240927758319131)]\n",
      "('argentina', 'brazil', 'iran')\n",
      "Analogy: argentina:brazil=iran:?.\n",
      "[('afghanistan', 0.97912003591445507), ('kuwait', 0.73339595020199422), ('korea', 0.83021732907319856)]\n",
      "('ashes', 'urn', 'money')\n",
      "Analogy: ashes:urn=money:?.\n",
      "[('At least one word not in word list', 0), ('raise', 0.70964412968903656), ('helped', 0.81395785818691901)]\n",
      "('telephone', 'cord', 'television')\n",
      "Analogy: telephone:cord=television:?.\n",
      "[('tv', 0.90585625103312961), ('radio', 0.80311476502335644), ('news', 0.80894156531360839)]\n",
      "('walk', 'roam', 'speak')\n",
      "Analogy: walk:roam=speak:?.\n",
      "[('At least one word not in word list', 0), ('words', 0.65308640324122524), ('telling', 0.7753847568157316)]\n",
      "('novel', 'epilogue', 'meal')\n",
      "Analogy: novel:epilogue=meal:?.\n",
      "[('At least one word not in word list', 0), ('eaten', 0.62531593216140524), ('food', 0.79169649173796952)]\n",
      "('chinese', 'china', 'french')\n",
      "Analogy: chinese:china=french:?.\n",
      "[('german', 0.92226499908820769), ('english', 0.76660849728359104), ('spanish', 0.78463948165923447)]\n",
      "('evening', 'morning', 'dinner')\n",
      "Analogy: evening:morning=dinner:?.\n",
      "[('lunch', 0.98146149964099283), ('gowns', 0.66493729048784489), ('dinners', 0.8783586181636075)]\n",
      "('left', 'right', 'horizontal')\n",
      "Analogy: left:right=horizontal:?.\n",
      "[('slowly', 0.89670153871874314), ('vertical', 0.77041350140325315), ('vertical', 0.7893875430160352)]\n",
      "('theorem', 'deduce', 'hypothesis')\n",
      "Analogy: theorem:deduce=hypothesis:?.\n",
      "[('At least one word not in word list', 0), ('proof', 0.66425212104693043), ('generalization', 0.74232924259555899)]\n",
      "('h', 'water', 'bird')\n",
      "Analogy: h:water=bird:?.\n",
      "[('j', 0.84206371746410125), ('p', 0.60862540458017811), ('tekken', 0.58507141487290426)]\n",
      "('chicken', 'egg', 'cow')\n",
      "Analogy: chicken:egg=cow:?.\n",
      "[('pig', 0.98001117374568325), ('beef', 0.6685926044715591), ('beef', 0.75774245819400809)]\n",
      "('go', 'green', 'stop')\n",
      "Analogy: go:green=stop:?.\n",
      "[('going', 0.84792331776622021), ('going', 0.7528424917861245), ('letting', 0.78233820432594547)]\n",
      "('chicago', 'illinois', 'dallas')\n",
      "Analogy: chicago:illinois=dallas:?.\n",
      "[('stadium', 0.93015775516049892), ('denver', 0.80154348952740151), ('seattle', 0.80023621840268655)]\n",
      "('library', 'book', 'resturant')\n",
      "Analogy: library:book=resturant:?.\n",
      "[('At least one word not in word list', 0), ('At least one word not in word list', 0), ('At least one word not in word list', 0)]\n",
      "('dessert', 'meal', 'revelations')\n",
      "Analogy: dessert:meal=revelations:?.\n",
      "[('At least one word not in word list', 0), ('forgeries', 0.60279775667458135), ('lurid', 0.6678656192353567)]\n",
      "('chef', 'knife', 'student')\n",
      "Analogy: chef:knife=student:?.\n",
      "[('faculty', 0.94187562539269998), ('resident', 0.60874718235313718), ('associate', 0.68503509198594648)]\n",
      "('cookies', 'milk', 'chips')\n",
      "Analogy: cookies:milk=chips:?.\n",
      "[('graphical', 0.95589668829504948), ('chip', 0.61024887888392676), ('chip', 0.72231671364443595)]\n",
      "('math', 'physics', 'calculus')\n",
      "Analogy: math:physics=calculus:?.\n",
      "[('subsets', 0.90064424303662149), ('tcl', 0.56958244301462169), ('arithmetic', 0.71855489457666977)]\n",
      "('marvel', 'dc', 'captain')\n",
      "Analogy: marvel:dc=captain america:?.\n",
      "[('knight', 0.90965227202120502), ('knight', 0.62793725787304744), ('skipper', 0.78639510468183049)]\n",
      "('thor', 'loki', 'hammer')\n",
      "Analogy: thor:loki=hammer:?.\n",
      "[('At least one word not in word list', 0), ('launchers', 0.56360561119407937), ('arrow', 0.67913277554754048)]\n",
      "('odin', 'hela', 'asgard')\n",
      "Analogy: odin:hela=asgard:?.\n",
      "[('At least one word not in word list', 0), ('odysseus', 0.71463369589413339), ('macedon', 0.64945980270064296)]\n",
      "('beijing', 'shanghai', 'tiananmen')\n",
      "Analogy: beijing:shanghai=tiananmen:?.\n",
      "[('At least one word not in word list', 0), ('demonstrations', 0.69910961955069684), ('denounce', 0.68793753533997304)]\n",
      "('detroit', 'chicago', 'car')\n",
      "Analogy: detroit:chicago=car:?.\n",
      "[('cars', 0.95552331471485552), ('cars', 0.79106457773794492), ('truck', 0.87396082379988282)]\n",
      "('earth', 'mars', 'human')\n",
      "Analogy: earth:mars=human:?.\n",
      "[('nature', 0.83885277814813841), ('humans', 0.73917990769062591), ('freedom', 0.72724426435522116)]\n",
      "('ice', 'fire', 'cold')\n",
      "Analogy: ice:fire=cold:?.\n",
      "[('climate', 0.88144907679994977), ('wet', 0.6913824565054677), ('melt', 0.7249534144001053)]\n",
      "('lannister', 'stark', 'tywin')\n",
      "Analogy: lannister:stark=tywin:?.\n",
      "[('At least one word not in word list', 0), ('At least one word not in word list', 0), ('goria', 0.73442186905560347)]\n",
      "('uchicago', 'northwestern', 'smart')\n",
      "Analogy: uchicago:northwestern=smart:?.\n",
      "[('At least one word not in word list', 0), ('At least one word not in word list', 0), ('At least one word not in word list', 0)]\n",
      "('physics', 'astronomy', 'chemistry')\n",
      "Analogy: physics:astronomy=chemistry:?.\n",
      "[('molecular', 0.8764910026606324), ('molecular', 0.70074373863712225), ('biochemistry', 0.77091964226495402)]\n",
      "('good', 'better', 'bad')\n",
      "Analogy: good:better=bad:?.\n",
      "[('saying', 0.93708988161803897), ('my', 0.73148129048683019), ('little', 0.85086807729273262)]\n",
      "('eat', 'happy', 'run')\n",
      "Analogy: eat:happy=run:?.\n",
      "[('running', 0.90607039052395233), ('feed', 0.74130540569285708), ('fish', 0.70509065569422258)]\n",
      "('healthy', 'vegetable', 'unhealthy')\n",
      "Analogy: healthy:vegetable=unhealthy:?.\n",
      "[('At least one word not in word list', 0), ('uncomfortable', 0.63579121469793864), ('conscious', 0.76620853492514207)]\n",
      "('rubber', 'elastic', 'glass')\n",
      "Analogy: rubber:elastic=glass:?.\n",
      "[('steel', 0.93852216763991048), ('paper', 0.63678408995027547), ('plastic', 0.72292863460125112)]\n",
      "('star', 'planet', 'nuclei')\n",
      "Analogy: star:planet=nuclei:?.\n",
      "[('trivia', 0.90413574159070054), ('stars', 0.57100337091369058), ('saxophone', 0.62739313948616127)]\n",
      "('night', 'black', 'day')\n",
      "Analogy: night:black=day:?.\n",
      "[('days', 0.85167712038762988), ('days', 0.76244075072585449), ('weekend', 0.81882940673617377)]\n",
      "('wolf', 'dog', 'tiger')\n",
      "Analogy: wolf:dog=tiger:?.\n",
      "[('hercules', 0.96174736821762208), ('syr', 0.59651729678199117), ('tigers', 0.65972015943276552)]\n",
      "('canada', 'america', 'germany')\n",
      "Analogy: canada:america=germany:?.\n",
      "[('france', 0.94439995902348839), ('austria', 0.74649750897106415), ('denmark', 0.87277993228304418)]\n",
      "('china', 'tea', 'france')\n",
      "Analogy: china:tea=france:?.\n",
      "[('germany', 0.87128381682241529), ('italy', 0.74329752313294228), ('russia', 0.82597365046727134)]\n",
      "('left', 'right', 'up')\n",
      "Analogy: left:right=up:?.\n",
      "[('At least one word not in word list', 0), ('out', 0.81024214009515994), ('down', 0.81135705673180558)]\n",
      "('dog', 'cat', 'puppy')\n",
      "Analogy: dog:cat=puppy:?.\n",
      "[('At least one word not in word list', 0), ('shepherd', 0.63467304516535483), ('puppies', 0.72999679992125577)]\n",
      "('finger', 'hand', 'toe')\n",
      "Analogy: finger:hand=toe:?.\n",
      "[('cretaceous', 0.92356675619089912), ('tac', 0.73101990424537988), ('jaw', 0.76305109795262593)]\n",
      "('page', 'book', 'finger')\n",
      "Analogy: page:book=finger:?.\n",
      "[('png', 0.85684336485705193), ('click', 0.67542763656427496), ('thumb', 0.73833929206787496)]\n",
      "('day', 'night', 'up')\n",
      "Analogy: day:night=up:?.\n",
      "[('At least one word not in word list', 0), ('rest', 0.78989882327571437), ('down', 0.86704544869376154)]\n",
      "('hard', 'easy', 'awake')\n",
      "Analogy: hard:easy=awake:?.\n",
      "[('At least one word not in word list', 0), ('asleep', 0.61969961271370944), ('awakened', 0.78153824159890917)]\n",
      "('brain', 'body', 'engine')\n",
      "Analogy: brain:body=engine:?.\n",
      "[('engines', 0.8748846204257319), ('engines', 0.6943246963820463), ('engines', 0.74201709690586093)]\n",
      "('cereal', 'milk', 'butter')\n",
      "Analogy: cereal:milk=butter:?.\n",
      "[('At least one word not in word list', 0), ('carpets', 0.63456448186116476), ('cornmeal', 0.78725916013200592)]\n",
      "('street', 'city', 'vein')\n",
      "Analogy: street:city=vein:?.\n",
      "[('sketch', 0.83652093523992765), ('wrinkled', 0.66875255769564124), ('bassline', 0.60765170430885174)]\n",
      "('happy', 'sad', 'smile')\n",
      "Analogy: happy:sad=smile:?.\n",
      "[('pretty', 0.97824181030328472), ('baby', 0.67379916817342655), ('hug', 0.73702529644499859)]\n",
      "('japan', 'sushi', 'mexico')\n",
      "Analogy: japan:sushi=mexico:?.\n",
      "[('At least one word not in word list', 0), ('spain', 0.71355356142393089), ('republic', 0.77331447345141624)]\n",
      "('economics', 'finance', 'mathematics')\n",
      "Analogy: economics:finance=mathematics:?.\n",
      "[('mathematical', 0.93605397517238265), ('philosophy', 0.7558812049338467), ('physics', 0.84138586612957611)]\n",
      "('basketball', 'jordan', 'soccer')\n",
      "Analogy: basketball:jordan=soccer:?.\n",
      "[('hockey', 0.94390015150388118), ('football', 0.83060110328074055), ('football', 0.83697357691657914)]\n",
      "('poetry', 'poet', 'music')\n",
      "Analogy: poetry:poet=music:?.\n",
      "[('songs', 0.87478089519690538), ('musical', 0.76083689578470892), ('dance', 0.83371992684449303)]\n",
      "('england', 'capitalism', 'china')\n",
      "Analogy: england:capitalism=china:?.\n",
      "[('kingdom', 0.8572531615978275), ('wales', 0.73332768774050938), ('australia', 0.82809386966844434)]\n",
      "('ship', 'sea', 'plane')\n",
      "Analogy: ship:sea=plane:?.\n",
      "[('bomb', 0.85007196626986181), ('airplane', 0.73506004170688299), ('airplane', 0.86093835814959208)]\n",
      "('physics', 'newton', 'biology')\n",
      "Analogy: physics:newton=biology:?.\n",
      "[('chemistry', 0.91717293854756821), ('sciences', 0.79154688221303582), ('chemistry', 0.8585251849200044)]\n",
      "('war', 'weapon', 'peace')\n",
      "Analogy: war:weapon=peace:?.\n",
      "[('government', 0.82516542192725739), ('union', 0.7263933379792461), ('reconciliation', 0.80915466795018065)]\n",
      "('school', 'teacher', 'hospital')\n",
      "Analogy: school:teacher=hospital:?.\n",
      "[('college', 0.89871652336246721), ('college', 0.73179039295083204), ('clinic', 0.78105904472869447)]\n",
      "('pork', 'pig', 'beef')\n",
      "Analogy: pork:pig=beef:?.\n",
      "[('potatoes', 0.98691100279691057), ('meat', 0.72883706725629027), ('meat', 0.78344793933200296)]\n",
      "('milwaukee', 'wisconsin', 'meridian')\n",
      "Analogy: milwaukee:wisconsin=meridian:?.\n",
      "[('dubai', 0.93308261630886424), ('apostate', 0.58676414597563653), ('hsn', 0.62122431248450505)]\n",
      "('acting', 'oscar', 'music')\n",
      "Analogy: acting:oscar=music:?.\n",
      "[('musical', 0.8851210838467034), ('recording', 0.69871512170034), ('performing', 0.73950216674296432)]\n",
      "('present', 'past', 'contemporary')\n",
      "Analogy: present:past=contemporary:?.\n",
      "[('influenced', 0.91130668763278277), ('modern', 0.69522955326603797), ('oly\\xc4\\x81', 0.75043163488208331)]\n",
      "('judaism', 'rabbi', 'christianity')\n",
      "Analogy: judaism:rabbi=christianity:?.\n",
      "[('religion', 0.95315295231252606), ('catholicism', 0.77456095973105554), ('protestantism', 0.8202048975889995)]\n",
      "('tragedy', 'sad', 'comedy')\n",
      "Analogy: tragedy:sad=comedy:?.\n",
      "[('drama', 0.95984619940196936), ('drama', 0.7596030973321698), ('drama', 0.82351127992429585)]\n",
      "('ireland', 'potatoes', 'italy')\n",
      "Analogy: ireland:potatoes=italy:?.\n",
      "[('france', 0.89515477952401867), ('kingdom', 0.75082458575868405), ('spain', 0.69475063347951138)]\n",
      "('sailing', 'boat', 'driving')\n",
      "Analogy: sailing:boat=driving:?.\n",
      "[('boost', 0.9789291667888762), ('racing', 0.58178175637500129), ('racing', 0.69483523631241673)]\n",
      "('night', 'dark', 'day')\n",
      "Analogy: night:dark=day:?.\n",
      "[('days', 0.83514482998583528), ('days', 0.77755150405181983), ('sunday', 0.84602402613104921)]\n",
      "('motif', 'theme', 'detail')\n",
      "Analogy: motif:theme=detail:?.\n",
      "[('verified', 0.94250128730042715), ('updating', 0.62592009540178795), ('anatomical', 0.69105490906370759)]\n",
      "('hypothesis', 'result', 'question')\n",
      "Analogy: hypothesis:result=question:?.\n",
      "[('philosophers', 0.90317272180270625), ('asserts', 0.73218288985143509), ('posits', 0.72594542119814132)]\n",
      "('black', 'color', 'triangle')\n",
      "Analogy: black:color=triangle:?.\n",
      "[('jordan', 0.8484953640264985), ('corner', 0.58115126389157246), ('gang', 0.64388616854882119)]\n",
      "('cold', 'hot', 'freezing')\n",
      "Analogy: cold:hot=freezing:?.\n",
      "[('vulnerable', 0.95297857479799919), ('prolonged', 0.59729638476471802), ('prolonged', 0.76578957261227676)]\n",
      "('cat', 'kitten', 'dog')\n",
      "Analogy: cat:kitten=dog:?.\n",
      "[('At least one word not in word list', 0), ('dogs', 0.71450506971408045), ('horse', 0.81100672617549863)]\n",
      "('france', 'europe', 'china')\n",
      "Analogy: france:europe=china:?.\n",
      "[('republic', 0.94452164516815751), ('republic', 0.66216436282638769), ('taiwan', 0.77556822046262808)]\n",
      "('boy', 'girl', 'man')\n",
      "Analogy: boy:girl=man:?.\n",
      "[('woman', 0.89113962692620297), ('evil', 0.6691057001836922), ('him', 0.81264235356825787)]\n",
      "('tall', 'short', 'big')\n",
      "Analogy: tall:short=big:?.\n",
      "[('woods', 0.90870669528084136), ('taller', 0.59846836650358137), ('stands', 0.69979232308669015)]\n",
      "('master', 'apprentice', 'teacher')\n",
      "Analogy: master:apprentice=teacher:?.\n",
      "[('taught', 0.89820535244788091), ('taught', 0.7642549389518325), ('taught', 0.81769159189565221)]\n",
      "('tree', 'plant', 'dog')\n",
      "Analogy: tree:plant=dog:?.\n",
      "[('cat', 0.88625187588089716), ('cat', 0.65522388370226048), ('cat', 0.74773874501351989)]\n",
      "('knight', 'squire', 'professor')\n",
      "Analogy: knight:squire=professor:?.\n",
      "[('At least one word not in word list', 0), ('doctor', 0.69046047890582984), ('university', 0.80108951129439887)]\n",
      "('man', 'woman', 'mr')\n",
      "Analogy: man:woman=mr:?.\n",
      "[('harry', 0.90462643072351523), ('sam', 0.6627153557967862), ('mr.', 0.73997538810000552)]\n",
      "('democrat', 'republican', 'conservative')\n",
      "Analogy: democrat:republican=conservative:liberal.\n",
      "[('conservatives', 0.94618457564084812), ('liberal', 0.79087693702210971), ('liberal', 0.89503117216960937)]\n",
      "('guangdong', 'guangzhou', 'hangzhou')\n",
      "Analogy: guangdong:guangzhou=hangzhou:zhejiang.\n",
      "[('At least one word not in word list', 0), ('zhejiang', 0.7724504397867209), ('zhejiang', 0.89957598208304745)]\n",
      "('ohio', 'illinois', 'boston')\n",
      "Analogy: ohio:illinois=boston:philadelphia.\n",
      "[('philadelphia', 0.9853696117805657), ('philadelphia', 0.80664126467935982), ('chicago', 0.87763504235523715)]\n",
      "('senator', 'senate', 'representative')\n",
      "Analogy: senator:senate=representative:whig.\n",
      "[('andrew', 0.89655504677055997), ('whig', 0.83008222468674331), ('ambassador', 0.682860355677123)]\n",
      "('highway', 'car', 'railroad')\n",
      "Analogy: highway:car=railroad:interstate.\n",
      "[('northeast', 0.92294229170483399), ('interstate', 0.78730552271113585), ('turnpike', 0.85399012512700223)]\n",
      "('africa', 'congo', 'china')\n",
      "Analogy: africa:congo=china:asia.\n",
      "[('india', 0.92102898649010068), ('asia', 0.8166119965175741), ('hong', 0.84096757218559537)]\n",
      "('lincoln', 'republican', 'clinton')\n",
      "Analogy: lincoln:republican=clinton:franklin.\n",
      "[('grove', 0.94085241722957313), ('monroe', 0.64046618964693869), ('trip', 0.59322199380244323)]\n",
      "('computer', 'cpu', 'brain')\n",
      "Analogy: computer:cpu=brain:science.\n",
      "[('physical', 0.84015499875727873), ('science', 0.63836529965400768), ('eye', 0.7541821517252566)]\n",
      "('keyboard', 'hardware', 'linux')\n",
      "Analogy: keyboard:hardware=linux:unix.\n",
      "[('suite', 0.95773163747371581), ('unix', 0.57611776035493933), ('unix', 0.70575361676649206)]\n",
      "('physics', 'science', 'history')\n",
      "Analogy: physics:science=history:see.\n",
      "[('th', 0.81693481860531314), ('see', 0.59348947143884767), ('mathematical', 0.68334420543585328)]\n",
      "('baseball', 'diamond', 'football')\n",
      "Analogy: baseball:diamond=football:?,.\n",
      "[('league', 0.91172455547351439), ('basketball', 0.84486332985105217), ('league', 0.83023489930885452)]\n",
      "('coffee', 'milk', 'toast')\n",
      "Analogy: coffee:milk=toast:?,.\n",
      "[('At least one word not in word list', 0), ('fervent', 0.59617495920257213), ('tortilla', 0.66190507840298107)]\n",
      "('happy', 'sad', 'day')\n",
      "Analogy: happy:sad=day:?,.\n",
      "[('days', 0.91273655453872105), ('days', 0.78378357929386566), ('next', 0.81704232898465945)]\n",
      "('dolphin', 'ocean', 'eagle')\n",
      "Analogy: dolphin:ocean=eagle:?,.\n",
      "[('mascot', 0.90404839263409076), ('hooded', 0.68232909441688216), ('two-headed', 0.71334008785251324)]\n",
      "('north', 'south', 'right')\n",
      "Analogy: north:south=right:?,.\n",
      "[('hand', 0.89484364931926308), ('left', 0.826691875806988), ('if', 0.83189414237810388)]\n",
      "('christian', 'church', 'muslim')\n",
      "Analogy: christian:church=muslim:?,.\n",
      "[('islam', 0.88362095936899565), ('islam', 0.69628770138511309), ('moslem', 0.83225572778765311)]\n",
      "('pen', 'sword', 'love')\n",
      "Analogy: pen:sword=love:?,.\n",
      "[('lyrics', 0.89225757707523656), ('miss', 0.636509166190386), ('yes', 0.75326404145228654)]\n",
      "('match', 'fire', 'hammer')\n",
      "Analogy: match:fire=hammer:?,.\n",
      "[('wins', 0.89374098355632636), ('wins', 0.66622339453955759), ('champions', 0.74567786298879069)]\n",
      "('happy', 'sad', 'wet')\n",
      "Analogy: happy:sad=wet:?,.\n",
      "[('rain', 0.96754598055756358), ('dry', 0.70645267077566687), ('grass', 0.70927416052448977)]\n",
      "('heaven', 'god', 'hell')\n",
      "Analogy: heaven:god=hell:?.\n",
      "[('filmed', 0.92002927806429802), ('scream', 0.57005453434483799), ('alley', 0.68358097812382357)]\n",
      "('fire', 'burning', 'ice')\n",
      "Analogy: fire:burning=ice:?.\n",
      "[('ground', 0.92808058690504946), ('ground', 0.63820638146320774), ('field', 0.69242585962763881)]\n",
      "('boat', 'sink', 'car')\n",
      "Analogy: boat:sink=car:?.\n",
      "[('cars', 0.88650484220895853), ('cars', 0.77772187261966441), ('bus', 0.85414802214968333)]\n",
      "('three', 'four', 'five')\n",
      "Analogy: three:four=five:?.\n",
      "[('six', 0.97930672667875718), ('two', 0.98910111891207853), ('seven', 0.98366119828128462)]\n",
      "('woods', 'acorn', 'orchard')\n",
      "Analogy: woods:acorn=orchard:?.\n",
      "[('oak', 0.98174765823403243), ('sandy', 0.73957275120211063), ('hill', 0.7304503158690675)]\n",
      "('picture', 'blurry', 'knife')\n",
      "Analogy: picture:blurry=knife:?.\n",
      "[('At least one word not in word list', 0), ('hand', 0.68238044438377699), ('hammer', 0.75897158045770063)]\n",
      "('farm', 'dirt', 'city')\n",
      "Analogy: farm:dirt=city:?.\n",
      "[('town', 0.94177718257958931), ('town', 0.80690993885570905), ('metropolitan', 0.72396354887548686)]\n",
      "('drizzle', 'storm', 'wind')\n",
      "Analogy: drizzle:storm=wind:?.\n",
      "[('At least one word not in word list', 0), ('At least one word not in word list', 0), ('mixture', 0.75051418549069127)]\n",
      "('deer', 'doe', 'cow')\n",
      "Analogy: deer:doe=cow:?.\n",
      "[('At least one word not in word list', 0), ('goat', 0.75312005916631375), ('sheep', 0.79100622416444788)]\n",
      "('camera', 'picture', 'microphone')\n",
      "Analogy: camera:picture=microphone:?.\n",
      "[('wires', 0.95308980011710842), ('loudspeakers', 0.64001261613021132), ('microphones', 0.83064349966756901)]\n",
      "('friend', 'enemy', 'cat')\n",
      "Analogy: friend:enemy=cat:?.\n",
      "[('mr', 0.85978700647469475), ('lisa', 0.6325779149594597), ('baby', 0.68330597545281047)]\n",
      "('bose', 'einstein', 'newton')\n",
      "Analogy: bose:einstein=newton:?.\n",
      "[('At least one word not in word list', 0), ('chandra', 0.69588324661606082), ('carmichael', 0.67274818820217019)]\n",
      "('square', 'cube', 'triangle')\n",
      "Analogy: square:cube=triangle:?.\n",
      "[('circle', 0.91290487211828875), ('corner', 0.61024571817824513), ('area', 0.74354467627793086)]\n",
      "('linux', 'free', 'microsoft')\n",
      "Analogy: linux:free=microsoft:?.\n",
      "[('unix', 0.90270396540922793), ('unix', 0.82152829635230085), ('os/2', 0.82219056198342211)]\n",
      "('keyboard', 'type', 'mouse')\n",
      "Analogy: keyboard:type=mouse:?.\n",
      "[('lineup', 0.85842576424742068), ('mickey', 0.67767128988681125), ('keyboards', 0.69822480829192046)]\n",
      "('coffee', 'bean', 'tea')\n",
      "Analogy: coffee:bean=tea:?.\n",
      "[('meat', 0.96158509945312487), ('drink', 0.66168377791201549), ('drinks', 0.78725776097895206)]\n",
      "('michigan', 'lansing', 'illinois')\n",
      "Analogy: michigan:lansing=illinois:?.\n",
      "[('At least one word not in word list', 0), ('county', 0.84069138586924774), ('wisconsin', 0.89144995931367865)]\n",
      "('tree', 'bark', 'plant')\n",
      "Analogy: tree:bark=plant:?.\n",
      "[('plants', 0.90181904774686716), ('plants', 0.78306946511842368), ('plants', 0.77971476852374133)]\n",
      "('hammer', 'nail', 'screwdriver')\n",
      "Analogy: hammer:nail=screwdriver:?.\n",
      "[('At least one word not in word list', 0), ('matlock', 0.56329921122415227), ('wrench', 0.76137174711879696)]\n",
      "('dice', 'roll', 'coin')\n",
      "Analogy: dice:roll=coin:?.\n",
      "[('coinage', 0.91344914464000238), ('coins', 0.67673137905315128), ('reales', 0.6345306711428057)]\n",
      "('mathematics', 'gauss', 'physics')\n",
      "Analogy: mathematics:gauss=physics:?.\n",
      "[('mathematical', 0.88171703220026931), ('science', 0.77307693434568425), ('science', 0.8556190465998349)]\n",
      "('boy', 'girl', 'man')\n",
      "Analogy: boy:girl=man:?.\n",
      "[('woman', 0.89113962692620297), ('evil', 0.6691057001836922), ('him', 0.81264235356825787)]\n",
      "('murder', 'suicide', 'knife')\n",
      "Analogy: murder:suicide=knife:?.\n",
      "[('clothes', 0.96376412699729452), ('jacket', 0.60267602899979766), ('ax', 0.60734144762519715)]\n",
      "('dictionary', 'definition', 'novel')\n",
      "Analogy: dictionary:definition=novel:?.\n",
      "[('books', 0.85977301212441959), ('books', 0.67473713704650617), ('novels', 0.76741327604460785)]\n",
      "('germany', 'hitler', 'china')\n",
      "Analogy: germany:hitler=china:?.\n",
      "[('europe', 0.91209183528873217), ('asia', 0.80135187470936742), ('asian', 0.80271306958693189)]\n",
      "('listen', 'deaf', 'look')\n",
      "Analogy: listen:deaf=look:?.\n",
      "[('looking', 0.94595580747185692), ('you', 0.70193642676387147), (\"'ll\", 0.85792488255034316)]\n",
      "('beer', 'alcohol', 'marijuana')\n",
      "Analogy: beer:alcohol=marijuana:?.\n",
      "[('pizza', 0.97362558007594391), ('oxfam', 0.64741462936050898), ('cigar', 0.74568013002787048)]\n",
      "('america', 'canada', 'china')\n",
      "Analogy: america:canada=china:?.\n",
      "[('asia', 0.89749188428551396), ('asia', 0.72766107241869815), ('chinese', 0.82744116436796511)]\n",
      "('bread', 'butter', 'egg')\n",
      "Analogy: bread:butter=egg:?.\n",
      "[('flesh', 0.97371840016253297), ('meal', 0.66383942789879968), ('meal', 0.80117618521165102)]\n",
      "('finance', 'money', 'technology')\n",
      "Analogy: finance:money=technology:?.\n",
      "[('engineering', 0.89276206892909604), ('engineering', 0.70860328088406688), ('economics', 0.70952903051773364)]\n",
      "('happy', 'smile', 'depressed')\n",
      "Analogy: happy:smile=depressed:?.\n",
      "[('trouble', 0.98302906445377347), ('unstable', 0.67813919157209657), ('worse', 0.70395184779073383)]\n",
      "('tennis', 'racket', 'baseball')\n",
      "Analogy: tennis:racket=baseball:?.\n"
     ]
    }
   ],
   "source": [
    "results = {}\n",
    "for a in analogies:\n",
    "    w_list = re.findall(r'([a-zA-z]+):([a-zA-z]+)=([a-zA-z]+)', a)[0]\n",
    "    print(w_list)\n",
    "    print(\"Analogy: {}.\".format(a))\n",
    "    pmi = solve_analogy(wd_mapng, w_list)\n",
    "    lgv = solve_analogy(vectors, w_list)\n",
    "    tgv = solve_analogy(pre_vectors, w_list)\n",
    "    results[a] = [pmi, lgv, tgv]\n",
    "    print(results[a])"
   ]
  },
  {
   "cell_type": "code",
   "execution_count": null,
   "metadata": {
    "collapsed": true
   },
   "outputs": [],
   "source": [
    "pickle.dump(results, open(\"analogies.p\", \"wb\"))"
   ]
  },
  {
   "cell_type": "markdown",
   "metadata": {
    "collapsed": true
   },
   "source": [
    "**Comments**\n",
    "\n",
    "The analogy fails if at least one word of the analogy is not found in the vocabulary. We could solve this by using something like the closest similar word, or increase the size of the dictionary.\n",
    "\n",
    "Some of the results make some sense, and are interesting:\n",
    "\n",
    "- day:night = up:rest (makes sense, I rest when I'm not up haha)\n",
    "- poetry:poet = music:musical\n",
    "- war:weapon = peace:union\n",
    "\n",
    "Some miss it by a little:\n",
    "\n",
    "- judaism:rabbi = christianity:catholicism (more like priest?)\n",
    "- knight:squire = professor:doctor (shouldn't it be the other way around?)\n",
    "- breakfast:morning = dinner:snack (not completely wrond, but probably night was better)\n",
    "- russia:moscow = china:korea (wrong, but at least is a geopolitical word)\n",
    "\n",
    "A few are very weird and totally miss it:\n",
    "\n",
    "- cereal:milk = butter:carpets (Mom would definitely kill me)\n",
    "- Ireland:potatoes=italy:kingdom\n",
    "- man:woman = mr:sam (LOL)\n",
    "- smart:intelligent=sly:doris (like, from Nemo?)\n",
    "- fire:firefighter = doctor:zhivago\n",
    "- federer:tennis=ronaldo:solidifies\n",
    "\n",
    "It's interesting to see that sometimes our embeddings give better (maybe more expected?) answers than the GloVe ones, for example:\n",
    "- beer:alcohol=marijuana: (pizza <- pmi, oxfam <- local Glove, cigar <- pretrained Glove)\n",
    "- boy: girl=man: (woman, evil, him)\n",
    "- dice:roll=coin: (coinage, coins, reales) \n",
    "\n",
    "other it just fails miserably:\n",
    "- good:better=bad: (saying, my, little)\n",
    "- ice:fire=cold (climate, wet, melt)\n",
    "\n",
    "To make a \"good\" analogy solver, we might need more text (in terms of topics maybe? or maybe just quantity). Also, Maybe increase the dimensionality of our embeddings (we picked 30, but could've done it with slightly more.\n",
    "Also, a bad thing about our pmi embeddings is that there are many words in the analogies that are not in our vocabulary, so we really can't compute anything.\n"
   ]
  },
  {
   "cell_type": "markdown",
   "metadata": {},
   "source": [
    "## t-sne"
   ]
  },
  {
   "cell_type": "code",
   "execution_count": 17,
   "metadata": {
    "collapsed": false,
    "scrolled": true
   },
   "outputs": [],
   "source": [
    "%matplotlib notebook\n",
    "from sklearn.manifold import TSNE\n",
    "import matplotlib.pyplot as plt\n",
    "\n",
    "tsne = TSNE(n_components=2, random_state=0)\n",
    "np.set_printoptions(suppress=True)\n",
    "# pre_vectors is a dict with (words: vectors) kv pairs\n",
    "l = [(k, v) for k, v in pre_vectors.items()][:1000]\n",
    "Y = tsne.fit_transform([x[1] for x in l])"
   ]
  },
  {
   "cell_type": "code",
   "execution_count": 22,
   "metadata": {
    "collapsed": false
   },
   "outputs": [
    {
     "data": {
      "application/javascript": [
       "/* Put everything inside the global mpl namespace */\n",
       "window.mpl = {};\n",
       "\n",
       "\n",
       "mpl.get_websocket_type = function() {\n",
       "    if (typeof(WebSocket) !== 'undefined') {\n",
       "        return WebSocket;\n",
       "    } else if (typeof(MozWebSocket) !== 'undefined') {\n",
       "        return MozWebSocket;\n",
       "    } else {\n",
       "        alert('Your browser does not have WebSocket support.' +\n",
       "              'Please try Chrome, Safari or Firefox ≥ 6. ' +\n",
       "              'Firefox 4 and 5 are also supported but you ' +\n",
       "              'have to enable WebSockets in about:config.');\n",
       "    };\n",
       "}\n",
       "\n",
       "mpl.figure = function(figure_id, websocket, ondownload, parent_element) {\n",
       "    this.id = figure_id;\n",
       "\n",
       "    this.ws = websocket;\n",
       "\n",
       "    this.supports_binary = (this.ws.binaryType != undefined);\n",
       "\n",
       "    if (!this.supports_binary) {\n",
       "        var warnings = document.getElementById(\"mpl-warnings\");\n",
       "        if (warnings) {\n",
       "            warnings.style.display = 'block';\n",
       "            warnings.textContent = (\n",
       "                \"This browser does not support binary websocket messages. \" +\n",
       "                    \"Performance may be slow.\");\n",
       "        }\n",
       "    }\n",
       "\n",
       "    this.imageObj = new Image();\n",
       "\n",
       "    this.context = undefined;\n",
       "    this.message = undefined;\n",
       "    this.canvas = undefined;\n",
       "    this.rubberband_canvas = undefined;\n",
       "    this.rubberband_context = undefined;\n",
       "    this.format_dropdown = undefined;\n",
       "\n",
       "    this.image_mode = 'full';\n",
       "\n",
       "    this.root = $('<div/>');\n",
       "    this._root_extra_style(this.root)\n",
       "    this.root.attr('style', 'display: inline-block');\n",
       "\n",
       "    $(parent_element).append(this.root);\n",
       "\n",
       "    this._init_header(this);\n",
       "    this._init_canvas(this);\n",
       "    this._init_toolbar(this);\n",
       "\n",
       "    var fig = this;\n",
       "\n",
       "    this.waiting = false;\n",
       "\n",
       "    this.ws.onopen =  function () {\n",
       "            fig.send_message(\"supports_binary\", {value: fig.supports_binary});\n",
       "            fig.send_message(\"send_image_mode\", {});\n",
       "            if (mpl.ratio != 1) {\n",
       "                fig.send_message(\"set_dpi_ratio\", {'dpi_ratio': mpl.ratio});\n",
       "            }\n",
       "            fig.send_message(\"refresh\", {});\n",
       "        }\n",
       "\n",
       "    this.imageObj.onload = function() {\n",
       "            if (fig.image_mode == 'full') {\n",
       "                // Full images could contain transparency (where diff images\n",
       "                // almost always do), so we need to clear the canvas so that\n",
       "                // there is no ghosting.\n",
       "                fig.context.clearRect(0, 0, fig.canvas.width, fig.canvas.height);\n",
       "            }\n",
       "            fig.context.drawImage(fig.imageObj, 0, 0);\n",
       "        };\n",
       "\n",
       "    this.imageObj.onunload = function() {\n",
       "        this.ws.close();\n",
       "    }\n",
       "\n",
       "    this.ws.onmessage = this._make_on_message_function(this);\n",
       "\n",
       "    this.ondownload = ondownload;\n",
       "}\n",
       "\n",
       "mpl.figure.prototype._init_header = function() {\n",
       "    var titlebar = $(\n",
       "        '<div class=\"ui-dialog-titlebar ui-widget-header ui-corner-all ' +\n",
       "        'ui-helper-clearfix\"/>');\n",
       "    var titletext = $(\n",
       "        '<div class=\"ui-dialog-title\" style=\"width: 100%; ' +\n",
       "        'text-align: center; padding: 3px;\"/>');\n",
       "    titlebar.append(titletext)\n",
       "    this.root.append(titlebar);\n",
       "    this.header = titletext[0];\n",
       "}\n",
       "\n",
       "\n",
       "\n",
       "mpl.figure.prototype._canvas_extra_style = function(canvas_div) {\n",
       "\n",
       "}\n",
       "\n",
       "\n",
       "mpl.figure.prototype._root_extra_style = function(canvas_div) {\n",
       "\n",
       "}\n",
       "\n",
       "mpl.figure.prototype._init_canvas = function() {\n",
       "    var fig = this;\n",
       "\n",
       "    var canvas_div = $('<div/>');\n",
       "\n",
       "    canvas_div.attr('style', 'position: relative; clear: both; outline: 0');\n",
       "\n",
       "    function canvas_keyboard_event(event) {\n",
       "        return fig.key_event(event, event['data']);\n",
       "    }\n",
       "\n",
       "    canvas_div.keydown('key_press', canvas_keyboard_event);\n",
       "    canvas_div.keyup('key_release', canvas_keyboard_event);\n",
       "    this.canvas_div = canvas_div\n",
       "    this._canvas_extra_style(canvas_div)\n",
       "    this.root.append(canvas_div);\n",
       "\n",
       "    var canvas = $('<canvas/>');\n",
       "    canvas.addClass('mpl-canvas');\n",
       "    canvas.attr('style', \"left: 0; top: 0; z-index: 0; outline: 0\")\n",
       "\n",
       "    this.canvas = canvas[0];\n",
       "    this.context = canvas[0].getContext(\"2d\");\n",
       "\n",
       "    var backingStore = this.context.backingStorePixelRatio ||\n",
       "\tthis.context.webkitBackingStorePixelRatio ||\n",
       "\tthis.context.mozBackingStorePixelRatio ||\n",
       "\tthis.context.msBackingStorePixelRatio ||\n",
       "\tthis.context.oBackingStorePixelRatio ||\n",
       "\tthis.context.backingStorePixelRatio || 1;\n",
       "\n",
       "    mpl.ratio = (window.devicePixelRatio || 1) / backingStore;\n",
       "\n",
       "    var rubberband = $('<canvas/>');\n",
       "    rubberband.attr('style', \"position: absolute; left: 0; top: 0; z-index: 1;\")\n",
       "\n",
       "    var pass_mouse_events = true;\n",
       "\n",
       "    canvas_div.resizable({\n",
       "        start: function(event, ui) {\n",
       "            pass_mouse_events = false;\n",
       "        },\n",
       "        resize: function(event, ui) {\n",
       "            fig.request_resize(ui.size.width, ui.size.height);\n",
       "        },\n",
       "        stop: function(event, ui) {\n",
       "            pass_mouse_events = true;\n",
       "            fig.request_resize(ui.size.width, ui.size.height);\n",
       "        },\n",
       "    });\n",
       "\n",
       "    function mouse_event_fn(event) {\n",
       "        if (pass_mouse_events)\n",
       "            return fig.mouse_event(event, event['data']);\n",
       "    }\n",
       "\n",
       "    rubberband.mousedown('button_press', mouse_event_fn);\n",
       "    rubberband.mouseup('button_release', mouse_event_fn);\n",
       "    // Throttle sequential mouse events to 1 every 20ms.\n",
       "    rubberband.mousemove('motion_notify', mouse_event_fn);\n",
       "\n",
       "    rubberband.mouseenter('figure_enter', mouse_event_fn);\n",
       "    rubberband.mouseleave('figure_leave', mouse_event_fn);\n",
       "\n",
       "    canvas_div.on(\"wheel\", function (event) {\n",
       "        event = event.originalEvent;\n",
       "        event['data'] = 'scroll'\n",
       "        if (event.deltaY < 0) {\n",
       "            event.step = 1;\n",
       "        } else {\n",
       "            event.step = -1;\n",
       "        }\n",
       "        mouse_event_fn(event);\n",
       "    });\n",
       "\n",
       "    canvas_div.append(canvas);\n",
       "    canvas_div.append(rubberband);\n",
       "\n",
       "    this.rubberband = rubberband;\n",
       "    this.rubberband_canvas = rubberband[0];\n",
       "    this.rubberband_context = rubberband[0].getContext(\"2d\");\n",
       "    this.rubberband_context.strokeStyle = \"#000000\";\n",
       "\n",
       "    this._resize_canvas = function(width, height) {\n",
       "        // Keep the size of the canvas, canvas container, and rubber band\n",
       "        // canvas in synch.\n",
       "        canvas_div.css('width', width)\n",
       "        canvas_div.css('height', height)\n",
       "\n",
       "        canvas.attr('width', width * mpl.ratio);\n",
       "        canvas.attr('height', height * mpl.ratio);\n",
       "        canvas.attr('style', 'width: ' + width + 'px; height: ' + height + 'px;');\n",
       "\n",
       "        rubberband.attr('width', width);\n",
       "        rubberband.attr('height', height);\n",
       "    }\n",
       "\n",
       "    // Set the figure to an initial 600x600px, this will subsequently be updated\n",
       "    // upon first draw.\n",
       "    this._resize_canvas(600, 600);\n",
       "\n",
       "    // Disable right mouse context menu.\n",
       "    $(this.rubberband_canvas).bind(\"contextmenu\",function(e){\n",
       "        return false;\n",
       "    });\n",
       "\n",
       "    function set_focus () {\n",
       "        canvas.focus();\n",
       "        canvas_div.focus();\n",
       "    }\n",
       "\n",
       "    window.setTimeout(set_focus, 100);\n",
       "}\n",
       "\n",
       "mpl.figure.prototype._init_toolbar = function() {\n",
       "    var fig = this;\n",
       "\n",
       "    var nav_element = $('<div/>')\n",
       "    nav_element.attr('style', 'width: 100%');\n",
       "    this.root.append(nav_element);\n",
       "\n",
       "    // Define a callback function for later on.\n",
       "    function toolbar_event(event) {\n",
       "        return fig.toolbar_button_onclick(event['data']);\n",
       "    }\n",
       "    function toolbar_mouse_event(event) {\n",
       "        return fig.toolbar_button_onmouseover(event['data']);\n",
       "    }\n",
       "\n",
       "    for(var toolbar_ind in mpl.toolbar_items) {\n",
       "        var name = mpl.toolbar_items[toolbar_ind][0];\n",
       "        var tooltip = mpl.toolbar_items[toolbar_ind][1];\n",
       "        var image = mpl.toolbar_items[toolbar_ind][2];\n",
       "        var method_name = mpl.toolbar_items[toolbar_ind][3];\n",
       "\n",
       "        if (!name) {\n",
       "            // put a spacer in here.\n",
       "            continue;\n",
       "        }\n",
       "        var button = $('<button/>');\n",
       "        button.addClass('ui-button ui-widget ui-state-default ui-corner-all ' +\n",
       "                        'ui-button-icon-only');\n",
       "        button.attr('role', 'button');\n",
       "        button.attr('aria-disabled', 'false');\n",
       "        button.click(method_name, toolbar_event);\n",
       "        button.mouseover(tooltip, toolbar_mouse_event);\n",
       "\n",
       "        var icon_img = $('<span/>');\n",
       "        icon_img.addClass('ui-button-icon-primary ui-icon');\n",
       "        icon_img.addClass(image);\n",
       "        icon_img.addClass('ui-corner-all');\n",
       "\n",
       "        var tooltip_span = $('<span/>');\n",
       "        tooltip_span.addClass('ui-button-text');\n",
       "        tooltip_span.html(tooltip);\n",
       "\n",
       "        button.append(icon_img);\n",
       "        button.append(tooltip_span);\n",
       "\n",
       "        nav_element.append(button);\n",
       "    }\n",
       "\n",
       "    var fmt_picker_span = $('<span/>');\n",
       "\n",
       "    var fmt_picker = $('<select/>');\n",
       "    fmt_picker.addClass('mpl-toolbar-option ui-widget ui-widget-content');\n",
       "    fmt_picker_span.append(fmt_picker);\n",
       "    nav_element.append(fmt_picker_span);\n",
       "    this.format_dropdown = fmt_picker[0];\n",
       "\n",
       "    for (var ind in mpl.extensions) {\n",
       "        var fmt = mpl.extensions[ind];\n",
       "        var option = $(\n",
       "            '<option/>', {selected: fmt === mpl.default_extension}).html(fmt);\n",
       "        fmt_picker.append(option)\n",
       "    }\n",
       "\n",
       "    // Add hover states to the ui-buttons\n",
       "    $( \".ui-button\" ).hover(\n",
       "        function() { $(this).addClass(\"ui-state-hover\");},\n",
       "        function() { $(this).removeClass(\"ui-state-hover\");}\n",
       "    );\n",
       "\n",
       "    var status_bar = $('<span class=\"mpl-message\"/>');\n",
       "    nav_element.append(status_bar);\n",
       "    this.message = status_bar[0];\n",
       "}\n",
       "\n",
       "mpl.figure.prototype.request_resize = function(x_pixels, y_pixels) {\n",
       "    // Request matplotlib to resize the figure. Matplotlib will then trigger a resize in the client,\n",
       "    // which will in turn request a refresh of the image.\n",
       "    this.send_message('resize', {'width': x_pixels, 'height': y_pixels});\n",
       "}\n",
       "\n",
       "mpl.figure.prototype.send_message = function(type, properties) {\n",
       "    properties['type'] = type;\n",
       "    properties['figure_id'] = this.id;\n",
       "    this.ws.send(JSON.stringify(properties));\n",
       "}\n",
       "\n",
       "mpl.figure.prototype.send_draw_message = function() {\n",
       "    if (!this.waiting) {\n",
       "        this.waiting = true;\n",
       "        this.ws.send(JSON.stringify({type: \"draw\", figure_id: this.id}));\n",
       "    }\n",
       "}\n",
       "\n",
       "\n",
       "mpl.figure.prototype.handle_save = function(fig, msg) {\n",
       "    var format_dropdown = fig.format_dropdown;\n",
       "    var format = format_dropdown.options[format_dropdown.selectedIndex].value;\n",
       "    fig.ondownload(fig, format);\n",
       "}\n",
       "\n",
       "\n",
       "mpl.figure.prototype.handle_resize = function(fig, msg) {\n",
       "    var size = msg['size'];\n",
       "    if (size[0] != fig.canvas.width || size[1] != fig.canvas.height) {\n",
       "        fig._resize_canvas(size[0], size[1]);\n",
       "        fig.send_message(\"refresh\", {});\n",
       "    };\n",
       "}\n",
       "\n",
       "mpl.figure.prototype.handle_rubberband = function(fig, msg) {\n",
       "    var x0 = msg['x0'] / mpl.ratio;\n",
       "    var y0 = (fig.canvas.height - msg['y0']) / mpl.ratio;\n",
       "    var x1 = msg['x1'] / mpl.ratio;\n",
       "    var y1 = (fig.canvas.height - msg['y1']) / mpl.ratio;\n",
       "    x0 = Math.floor(x0) + 0.5;\n",
       "    y0 = Math.floor(y0) + 0.5;\n",
       "    x1 = Math.floor(x1) + 0.5;\n",
       "    y1 = Math.floor(y1) + 0.5;\n",
       "    var min_x = Math.min(x0, x1);\n",
       "    var min_y = Math.min(y0, y1);\n",
       "    var width = Math.abs(x1 - x0);\n",
       "    var height = Math.abs(y1 - y0);\n",
       "\n",
       "    fig.rubberband_context.clearRect(\n",
       "        0, 0, fig.canvas.width, fig.canvas.height);\n",
       "\n",
       "    fig.rubberband_context.strokeRect(min_x, min_y, width, height);\n",
       "}\n",
       "\n",
       "mpl.figure.prototype.handle_figure_label = function(fig, msg) {\n",
       "    // Updates the figure title.\n",
       "    fig.header.textContent = msg['label'];\n",
       "}\n",
       "\n",
       "mpl.figure.prototype.handle_cursor = function(fig, msg) {\n",
       "    var cursor = msg['cursor'];\n",
       "    switch(cursor)\n",
       "    {\n",
       "    case 0:\n",
       "        cursor = 'pointer';\n",
       "        break;\n",
       "    case 1:\n",
       "        cursor = 'default';\n",
       "        break;\n",
       "    case 2:\n",
       "        cursor = 'crosshair';\n",
       "        break;\n",
       "    case 3:\n",
       "        cursor = 'move';\n",
       "        break;\n",
       "    }\n",
       "    fig.rubberband_canvas.style.cursor = cursor;\n",
       "}\n",
       "\n",
       "mpl.figure.prototype.handle_message = function(fig, msg) {\n",
       "    fig.message.textContent = msg['message'];\n",
       "}\n",
       "\n",
       "mpl.figure.prototype.handle_draw = function(fig, msg) {\n",
       "    // Request the server to send over a new figure.\n",
       "    fig.send_draw_message();\n",
       "}\n",
       "\n",
       "mpl.figure.prototype.handle_image_mode = function(fig, msg) {\n",
       "    fig.image_mode = msg['mode'];\n",
       "}\n",
       "\n",
       "mpl.figure.prototype.updated_canvas_event = function() {\n",
       "    // Called whenever the canvas gets updated.\n",
       "    this.send_message(\"ack\", {});\n",
       "}\n",
       "\n",
       "// A function to construct a web socket function for onmessage handling.\n",
       "// Called in the figure constructor.\n",
       "mpl.figure.prototype._make_on_message_function = function(fig) {\n",
       "    return function socket_on_message(evt) {\n",
       "        if (evt.data instanceof Blob) {\n",
       "            /* FIXME: We get \"Resource interpreted as Image but\n",
       "             * transferred with MIME type text/plain:\" errors on\n",
       "             * Chrome.  But how to set the MIME type?  It doesn't seem\n",
       "             * to be part of the websocket stream */\n",
       "            evt.data.type = \"image/png\";\n",
       "\n",
       "            /* Free the memory for the previous frames */\n",
       "            if (fig.imageObj.src) {\n",
       "                (window.URL || window.webkitURL).revokeObjectURL(\n",
       "                    fig.imageObj.src);\n",
       "            }\n",
       "\n",
       "            fig.imageObj.src = (window.URL || window.webkitURL).createObjectURL(\n",
       "                evt.data);\n",
       "            fig.updated_canvas_event();\n",
       "            fig.waiting = false;\n",
       "            return;\n",
       "        }\n",
       "        else if (typeof evt.data === 'string' && evt.data.slice(0, 21) == \"data:image/png;base64\") {\n",
       "            fig.imageObj.src = evt.data;\n",
       "            fig.updated_canvas_event();\n",
       "            fig.waiting = false;\n",
       "            return;\n",
       "        }\n",
       "\n",
       "        var msg = JSON.parse(evt.data);\n",
       "        var msg_type = msg['type'];\n",
       "\n",
       "        // Call the  \"handle_{type}\" callback, which takes\n",
       "        // the figure and JSON message as its only arguments.\n",
       "        try {\n",
       "            var callback = fig[\"handle_\" + msg_type];\n",
       "        } catch (e) {\n",
       "            console.log(\"No handler for the '\" + msg_type + \"' message type: \", msg);\n",
       "            return;\n",
       "        }\n",
       "\n",
       "        if (callback) {\n",
       "            try {\n",
       "                // console.log(\"Handling '\" + msg_type + \"' message: \", msg);\n",
       "                callback(fig, msg);\n",
       "            } catch (e) {\n",
       "                console.log(\"Exception inside the 'handler_\" + msg_type + \"' callback:\", e, e.stack, msg);\n",
       "            }\n",
       "        }\n",
       "    };\n",
       "}\n",
       "\n",
       "// from http://stackoverflow.com/questions/1114465/getting-mouse-location-in-canvas\n",
       "mpl.findpos = function(e) {\n",
       "    //this section is from http://www.quirksmode.org/js/events_properties.html\n",
       "    var targ;\n",
       "    if (!e)\n",
       "        e = window.event;\n",
       "    if (e.target)\n",
       "        targ = e.target;\n",
       "    else if (e.srcElement)\n",
       "        targ = e.srcElement;\n",
       "    if (targ.nodeType == 3) // defeat Safari bug\n",
       "        targ = targ.parentNode;\n",
       "\n",
       "    // jQuery normalizes the pageX and pageY\n",
       "    // pageX,Y are the mouse positions relative to the document\n",
       "    // offset() returns the position of the element relative to the document\n",
       "    var x = e.pageX - $(targ).offset().left;\n",
       "    var y = e.pageY - $(targ).offset().top;\n",
       "\n",
       "    return {\"x\": x, \"y\": y};\n",
       "};\n",
       "\n",
       "/*\n",
       " * return a copy of an object with only non-object keys\n",
       " * we need this to avoid circular references\n",
       " * http://stackoverflow.com/a/24161582/3208463\n",
       " */\n",
       "function simpleKeys (original) {\n",
       "  return Object.keys(original).reduce(function (obj, key) {\n",
       "    if (typeof original[key] !== 'object')\n",
       "        obj[key] = original[key]\n",
       "    return obj;\n",
       "  }, {});\n",
       "}\n",
       "\n",
       "mpl.figure.prototype.mouse_event = function(event, name) {\n",
       "    var canvas_pos = mpl.findpos(event)\n",
       "\n",
       "    if (name === 'button_press')\n",
       "    {\n",
       "        this.canvas.focus();\n",
       "        this.canvas_div.focus();\n",
       "    }\n",
       "\n",
       "    var x = canvas_pos.x * mpl.ratio;\n",
       "    var y = canvas_pos.y * mpl.ratio;\n",
       "\n",
       "    this.send_message(name, {x: x, y: y, button: event.button,\n",
       "                             step: event.step,\n",
       "                             guiEvent: simpleKeys(event)});\n",
       "\n",
       "    /* This prevents the web browser from automatically changing to\n",
       "     * the text insertion cursor when the button is pressed.  We want\n",
       "     * to control all of the cursor setting manually through the\n",
       "     * 'cursor' event from matplotlib */\n",
       "    event.preventDefault();\n",
       "    return false;\n",
       "}\n",
       "\n",
       "mpl.figure.prototype._key_event_extra = function(event, name) {\n",
       "    // Handle any extra behaviour associated with a key event\n",
       "}\n",
       "\n",
       "mpl.figure.prototype.key_event = function(event, name) {\n",
       "\n",
       "    // Prevent repeat events\n",
       "    if (name == 'key_press')\n",
       "    {\n",
       "        if (event.which === this._key)\n",
       "            return;\n",
       "        else\n",
       "            this._key = event.which;\n",
       "    }\n",
       "    if (name == 'key_release')\n",
       "        this._key = null;\n",
       "\n",
       "    var value = '';\n",
       "    if (event.ctrlKey && event.which != 17)\n",
       "        value += \"ctrl+\";\n",
       "    if (event.altKey && event.which != 18)\n",
       "        value += \"alt+\";\n",
       "    if (event.shiftKey && event.which != 16)\n",
       "        value += \"shift+\";\n",
       "\n",
       "    value += 'k';\n",
       "    value += event.which.toString();\n",
       "\n",
       "    this._key_event_extra(event, name);\n",
       "\n",
       "    this.send_message(name, {key: value,\n",
       "                             guiEvent: simpleKeys(event)});\n",
       "    return false;\n",
       "}\n",
       "\n",
       "mpl.figure.prototype.toolbar_button_onclick = function(name) {\n",
       "    if (name == 'download') {\n",
       "        this.handle_save(this, null);\n",
       "    } else {\n",
       "        this.send_message(\"toolbar_button\", {name: name});\n",
       "    }\n",
       "};\n",
       "\n",
       "mpl.figure.prototype.toolbar_button_onmouseover = function(tooltip) {\n",
       "    this.message.textContent = tooltip;\n",
       "};\n",
       "mpl.toolbar_items = [[\"Home\", \"Reset original view\", \"fa fa-home icon-home\", \"home\"], [\"Back\", \"Back to  previous view\", \"fa fa-arrow-left icon-arrow-left\", \"back\"], [\"Forward\", \"Forward to next view\", \"fa fa-arrow-right icon-arrow-right\", \"forward\"], [\"\", \"\", \"\", \"\"], [\"Pan\", \"Pan axes with left mouse, zoom with right\", \"fa fa-arrows icon-move\", \"pan\"], [\"Zoom\", \"Zoom to rectangle\", \"fa fa-square-o icon-check-empty\", \"zoom\"], [\"\", \"\", \"\", \"\"], [\"Download\", \"Download plot\", \"fa fa-floppy-o icon-save\", \"download\"]];\n",
       "\n",
       "mpl.extensions = [\"eps\", \"jpeg\", \"pdf\", \"png\", \"ps\", \"raw\", \"svg\", \"tif\"];\n",
       "\n",
       "mpl.default_extension = \"png\";var comm_websocket_adapter = function(comm) {\n",
       "    // Create a \"websocket\"-like object which calls the given IPython comm\n",
       "    // object with the appropriate methods. Currently this is a non binary\n",
       "    // socket, so there is still some room for performance tuning.\n",
       "    var ws = {};\n",
       "\n",
       "    ws.close = function() {\n",
       "        comm.close()\n",
       "    };\n",
       "    ws.send = function(m) {\n",
       "        //console.log('sending', m);\n",
       "        comm.send(m);\n",
       "    };\n",
       "    // Register the callback with on_msg.\n",
       "    comm.on_msg(function(msg) {\n",
       "        //console.log('receiving', msg['content']['data'], msg);\n",
       "        // Pass the mpl event to the overriden (by mpl) onmessage function.\n",
       "        ws.onmessage(msg['content']['data'])\n",
       "    });\n",
       "    return ws;\n",
       "}\n",
       "\n",
       "mpl.mpl_figure_comm = function(comm, msg) {\n",
       "    // This is the function which gets called when the mpl process\n",
       "    // starts-up an IPython Comm through the \"matplotlib\" channel.\n",
       "\n",
       "    var id = msg.content.data.id;\n",
       "    // Get hold of the div created by the display call when the Comm\n",
       "    // socket was opened in Python.\n",
       "    var element = $(\"#\" + id);\n",
       "    var ws_proxy = comm_websocket_adapter(comm)\n",
       "\n",
       "    function ondownload(figure, format) {\n",
       "        window.open(figure.imageObj.src);\n",
       "    }\n",
       "\n",
       "    var fig = new mpl.figure(id, ws_proxy,\n",
       "                           ondownload,\n",
       "                           element.get(0));\n",
       "\n",
       "    // Call onopen now - mpl needs it, as it is assuming we've passed it a real\n",
       "    // web socket which is closed, not our websocket->open comm proxy.\n",
       "    ws_proxy.onopen();\n",
       "\n",
       "    fig.parent_element = element.get(0);\n",
       "    fig.cell_info = mpl.find_output_cell(\"<div id='\" + id + \"'></div>\");\n",
       "    if (!fig.cell_info) {\n",
       "        console.error(\"Failed to find cell for figure\", id, fig);\n",
       "        return;\n",
       "    }\n",
       "\n",
       "    var output_index = fig.cell_info[2]\n",
       "    var cell = fig.cell_info[0];\n",
       "\n",
       "};\n",
       "\n",
       "mpl.figure.prototype.handle_close = function(fig, msg) {\n",
       "    var width = fig.canvas.width/mpl.ratio\n",
       "    fig.root.unbind('remove')\n",
       "\n",
       "    // Update the output cell to use the data from the current canvas.\n",
       "    fig.push_to_output();\n",
       "    var dataURL = fig.canvas.toDataURL();\n",
       "    // Re-enable the keyboard manager in IPython - without this line, in FF,\n",
       "    // the notebook keyboard shortcuts fail.\n",
       "    IPython.keyboard_manager.enable()\n",
       "    $(fig.parent_element).html('<img src=\"' + dataURL + '\" width=\"' + width + '\">');\n",
       "    fig.close_ws(fig, msg);\n",
       "}\n",
       "\n",
       "mpl.figure.prototype.close_ws = function(fig, msg){\n",
       "    fig.send_message('closing', msg);\n",
       "    // fig.ws.close()\n",
       "}\n",
       "\n",
       "mpl.figure.prototype.push_to_output = function(remove_interactive) {\n",
       "    // Turn the data on the canvas into data in the output cell.\n",
       "    var width = this.canvas.width/mpl.ratio\n",
       "    var dataURL = this.canvas.toDataURL();\n",
       "    this.cell_info[1]['text/html'] = '<img src=\"' + dataURL + '\" width=\"' + width + '\">';\n",
       "}\n",
       "\n",
       "mpl.figure.prototype.updated_canvas_event = function() {\n",
       "    // Tell IPython that the notebook contents must change.\n",
       "    IPython.notebook.set_dirty(true);\n",
       "    this.send_message(\"ack\", {});\n",
       "    var fig = this;\n",
       "    // Wait a second, then push the new image to the DOM so\n",
       "    // that it is saved nicely (might be nice to debounce this).\n",
       "    setTimeout(function () { fig.push_to_output() }, 1000);\n",
       "}\n",
       "\n",
       "mpl.figure.prototype._init_toolbar = function() {\n",
       "    var fig = this;\n",
       "\n",
       "    var nav_element = $('<div/>')\n",
       "    nav_element.attr('style', 'width: 100%');\n",
       "    this.root.append(nav_element);\n",
       "\n",
       "    // Define a callback function for later on.\n",
       "    function toolbar_event(event) {\n",
       "        return fig.toolbar_button_onclick(event['data']);\n",
       "    }\n",
       "    function toolbar_mouse_event(event) {\n",
       "        return fig.toolbar_button_onmouseover(event['data']);\n",
       "    }\n",
       "\n",
       "    for(var toolbar_ind in mpl.toolbar_items){\n",
       "        var name = mpl.toolbar_items[toolbar_ind][0];\n",
       "        var tooltip = mpl.toolbar_items[toolbar_ind][1];\n",
       "        var image = mpl.toolbar_items[toolbar_ind][2];\n",
       "        var method_name = mpl.toolbar_items[toolbar_ind][3];\n",
       "\n",
       "        if (!name) { continue; };\n",
       "\n",
       "        var button = $('<button class=\"btn btn-default\" href=\"#\" title=\"' + name + '\"><i class=\"fa ' + image + ' fa-lg\"></i></button>');\n",
       "        button.click(method_name, toolbar_event);\n",
       "        button.mouseover(tooltip, toolbar_mouse_event);\n",
       "        nav_element.append(button);\n",
       "    }\n",
       "\n",
       "    // Add the status bar.\n",
       "    var status_bar = $('<span class=\"mpl-message\" style=\"text-align:right; float: right;\"/>');\n",
       "    nav_element.append(status_bar);\n",
       "    this.message = status_bar[0];\n",
       "\n",
       "    // Add the close button to the window.\n",
       "    var buttongrp = $('<div class=\"btn-group inline pull-right\"></div>');\n",
       "    var button = $('<button class=\"btn btn-mini btn-primary\" href=\"#\" title=\"Stop Interaction\"><i class=\"fa fa-power-off icon-remove icon-large\"></i></button>');\n",
       "    button.click(function (evt) { fig.handle_close(fig, {}); } );\n",
       "    button.mouseover('Stop Interaction', toolbar_mouse_event);\n",
       "    buttongrp.append(button);\n",
       "    var titlebar = this.root.find($('.ui-dialog-titlebar'));\n",
       "    titlebar.prepend(buttongrp);\n",
       "}\n",
       "\n",
       "mpl.figure.prototype._root_extra_style = function(el){\n",
       "    var fig = this\n",
       "    el.on(\"remove\", function(){\n",
       "\tfig.close_ws(fig, {});\n",
       "    });\n",
       "}\n",
       "\n",
       "mpl.figure.prototype._canvas_extra_style = function(el){\n",
       "    // this is important to make the div 'focusable\n",
       "    el.attr('tabindex', 0)\n",
       "    // reach out to IPython and tell the keyboard manager to turn it's self\n",
       "    // off when our div gets focus\n",
       "\n",
       "    // location in version 3\n",
       "    if (IPython.notebook.keyboard_manager) {\n",
       "        IPython.notebook.keyboard_manager.register_events(el);\n",
       "    }\n",
       "    else {\n",
       "        // location in version 2\n",
       "        IPython.keyboard_manager.register_events(el);\n",
       "    }\n",
       "\n",
       "}\n",
       "\n",
       "mpl.figure.prototype._key_event_extra = function(event, name) {\n",
       "    var manager = IPython.notebook.keyboard_manager;\n",
       "    if (!manager)\n",
       "        manager = IPython.keyboard_manager;\n",
       "\n",
       "    // Check for shift+enter\n",
       "    if (event.shiftKey && event.which == 13) {\n",
       "        this.canvas_div.blur();\n",
       "        // select the cell after this one\n",
       "        var index = IPython.notebook.find_cell_index(this.cell_info[0]);\n",
       "        IPython.notebook.select(index + 1);\n",
       "    }\n",
       "}\n",
       "\n",
       "mpl.figure.prototype.handle_save = function(fig, msg) {\n",
       "    fig.ondownload(fig, null);\n",
       "}\n",
       "\n",
       "\n",
       "mpl.find_output_cell = function(html_output) {\n",
       "    // Return the cell and output element which can be found *uniquely* in the notebook.\n",
       "    // Note - this is a bit hacky, but it is done because the \"notebook_saving.Notebook\"\n",
       "    // IPython event is triggered only after the cells have been serialised, which for\n",
       "    // our purposes (turning an active figure into a static one), is too late.\n",
       "    var cells = IPython.notebook.get_cells();\n",
       "    var ncells = cells.length;\n",
       "    for (var i=0; i<ncells; i++) {\n",
       "        var cell = cells[i];\n",
       "        if (cell.cell_type === 'code'){\n",
       "            for (var j=0; j<cell.output_area.outputs.length; j++) {\n",
       "                var data = cell.output_area.outputs[j];\n",
       "                if (data.data) {\n",
       "                    // IPython >= 3 moved mimebundle to data attribute of output\n",
       "                    data = data.data;\n",
       "                }\n",
       "                if (data['text/html'] == html_output) {\n",
       "                    return [cell, data, j];\n",
       "                }\n",
       "            }\n",
       "        }\n",
       "    }\n",
       "}\n",
       "\n",
       "// Register the function which deals with the matplotlib target/channel.\n",
       "// The kernel may be null if the page has been refreshed.\n",
       "if (IPython.notebook.kernel != null) {\n",
       "    IPython.notebook.kernel.comm_manager.register_target('matplotlib', mpl.mpl_figure_comm);\n",
       "}\n"
      ],
      "text/plain": [
       "<IPython.core.display.Javascript object>"
      ]
     },
     "metadata": {},
     "output_type": "display_data"
    },
    {
     "data": {
      "text/html": [
       "<img src=\"data:image/png;base64,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\" width=\"999.999985098839\">"
      ],
      "text/plain": [
       "<IPython.core.display.HTML object>"
      ]
     },
     "metadata": {},
     "output_type": "display_data"
    }
   ],
   "source": [
    "plt.figure(figsize=(10,10))\n",
    "plt.scatter(Y[:, 0], Y[:, 1])\n",
    "for label, x, y in zip([x[0].decode('utf-8') for x in l], Y[:, 0], Y[:, 1]):\n",
    "    plt.annotate(label, xy=(x, y), xytext=(0, 0), textcoords='offset points')\n",
    "plt.show()\n",
    "## image name is words.png in the submission folder"
   ]
  },
  {
   "cell_type": "markdown",
   "metadata": {},
   "source": [
    "** Comments **\n",
    "\n",
    "It seems there is an interesting cluster of nature-related words in the top part of the blob:\n",
    "    - populations,\n",
    "    - spiders, \n",
    "    - dinosaurs, \n",
    "    - parasites\n",
    "\n",
    "which are all pretty close to:\n",
    "    - palms\n",
    "    - pumpkins\n",
    "    - cane\n",
    "    - fir\n",
    "    - fig\n",
    "   \n",
    "It's also cool to see that carbonaceous (maybe from the geological eras?) is close to dinosaur!"
   ]
  },
  {
   "cell_type": "code",
   "execution_count": null,
   "metadata": {
    "collapsed": true
   },
   "outputs": [],
   "source": []
  }
 ],
 "metadata": {
  "kernelspec": {
   "display_name": "Python 2",
   "language": "python",
   "name": "python2"
  },
  "language_info": {
   "codemirror_mode": {
    "name": "ipython",
    "version": 2
   },
   "file_extension": ".py",
   "mimetype": "text/x-python",
   "name": "python",
   "nbconvert_exporter": "python",
   "pygments_lexer": "ipython2",
   "version": "2.7.12"
  }
 },
 "nbformat": 4,
 "nbformat_minor": 2
}
